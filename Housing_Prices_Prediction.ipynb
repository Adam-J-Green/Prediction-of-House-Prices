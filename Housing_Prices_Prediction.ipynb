{
  "nbformat": 4,
  "nbformat_minor": 0,
  "metadata": {
    "colab": {
      "provenance": [],
      "authorship_tag": "ABX9TyNKaG1JvgpOsw/jRK/udrWR",
      "include_colab_link": true
    },
    "kernelspec": {
      "name": "python3",
      "display_name": "Python 3"
    },
    "language_info": {
      "name": "python"
    }
  },
  "cells": [
    {
      "cell_type": "markdown",
      "metadata": {
        "id": "view-in-github",
        "colab_type": "text"
      },
      "source": [
        "<a href=\"https://colab.research.google.com/github/JollygreenG-10/Prediction-of-House-Prices/blob/main/Housing_Prices_Prediction.ipynb\" target=\"_parent\"><img src=\"https://colab.research.google.com/assets/colab-badge.svg\" alt=\"Open In Colab\"/></a>"
      ]
    },
    {
      "cell_type": "markdown",
      "source": [
        "Assignment 1: Prediction of Housing Prices"
      ],
      "metadata": {
        "id": "Hca4VSA6pO4S"
      }
    },
    {
      "cell_type": "code",
      "execution_count": null,
      "metadata": {
        "colab": {
          "base_uri": "https://localhost:8080/",
          "height": 142
        },
        "id": "IqAJ9ppi_jkl",
        "outputId": "53730190-aa92-4ff0-e3b8-35f70b9e9a38"
      },
      "outputs": [
        {
          "output_type": "display_data",
          "data": {
            "text/plain": [
              "<IPython.core.display.HTML object>"
            ],
            "text/html": [
              "\n",
              "     <input type=\"file\" id=\"files-851d749e-9569-4d81-9d70-bf91f4890fd3\" name=\"files[]\" multiple disabled\n",
              "        style=\"border:none\" />\n",
              "     <output id=\"result-851d749e-9569-4d81-9d70-bf91f4890fd3\">\n",
              "      Upload widget is only available when the cell has been executed in the\n",
              "      current browser session. Please rerun this cell to enable.\n",
              "      </output>\n",
              "      <script>// Copyright 2017 Google LLC\n",
              "//\n",
              "// Licensed under the Apache License, Version 2.0 (the \"License\");\n",
              "// you may not use this file except in compliance with the License.\n",
              "// You may obtain a copy of the License at\n",
              "//\n",
              "//      http://www.apache.org/licenses/LICENSE-2.0\n",
              "//\n",
              "// Unless required by applicable law or agreed to in writing, software\n",
              "// distributed under the License is distributed on an \"AS IS\" BASIS,\n",
              "// WITHOUT WARRANTIES OR CONDITIONS OF ANY KIND, either express or implied.\n",
              "// See the License for the specific language governing permissions and\n",
              "// limitations under the License.\n",
              "\n",
              "/**\n",
              " * @fileoverview Helpers for google.colab Python module.\n",
              " */\n",
              "(function(scope) {\n",
              "function span(text, styleAttributes = {}) {\n",
              "  const element = document.createElement('span');\n",
              "  element.textContent = text;\n",
              "  for (const key of Object.keys(styleAttributes)) {\n",
              "    element.style[key] = styleAttributes[key];\n",
              "  }\n",
              "  return element;\n",
              "}\n",
              "\n",
              "// Max number of bytes which will be uploaded at a time.\n",
              "const MAX_PAYLOAD_SIZE = 100 * 1024;\n",
              "\n",
              "function _uploadFiles(inputId, outputId) {\n",
              "  const steps = uploadFilesStep(inputId, outputId);\n",
              "  const outputElement = document.getElementById(outputId);\n",
              "  // Cache steps on the outputElement to make it available for the next call\n",
              "  // to uploadFilesContinue from Python.\n",
              "  outputElement.steps = steps;\n",
              "\n",
              "  return _uploadFilesContinue(outputId);\n",
              "}\n",
              "\n",
              "// This is roughly an async generator (not supported in the browser yet),\n",
              "// where there are multiple asynchronous steps and the Python side is going\n",
              "// to poll for completion of each step.\n",
              "// This uses a Promise to block the python side on completion of each step,\n",
              "// then passes the result of the previous step as the input to the next step.\n",
              "function _uploadFilesContinue(outputId) {\n",
              "  const outputElement = document.getElementById(outputId);\n",
              "  const steps = outputElement.steps;\n",
              "\n",
              "  const next = steps.next(outputElement.lastPromiseValue);\n",
              "  return Promise.resolve(next.value.promise).then((value) => {\n",
              "    // Cache the last promise value to make it available to the next\n",
              "    // step of the generator.\n",
              "    outputElement.lastPromiseValue = value;\n",
              "    return next.value.response;\n",
              "  });\n",
              "}\n",
              "\n",
              "/**\n",
              " * Generator function which is called between each async step of the upload\n",
              " * process.\n",
              " * @param {string} inputId Element ID of the input file picker element.\n",
              " * @param {string} outputId Element ID of the output display.\n",
              " * @return {!Iterable<!Object>} Iterable of next steps.\n",
              " */\n",
              "function* uploadFilesStep(inputId, outputId) {\n",
              "  const inputElement = document.getElementById(inputId);\n",
              "  inputElement.disabled = false;\n",
              "\n",
              "  const outputElement = document.getElementById(outputId);\n",
              "  outputElement.innerHTML = '';\n",
              "\n",
              "  const pickedPromise = new Promise((resolve) => {\n",
              "    inputElement.addEventListener('change', (e) => {\n",
              "      resolve(e.target.files);\n",
              "    });\n",
              "  });\n",
              "\n",
              "  const cancel = document.createElement('button');\n",
              "  inputElement.parentElement.appendChild(cancel);\n",
              "  cancel.textContent = 'Cancel upload';\n",
              "  const cancelPromise = new Promise((resolve) => {\n",
              "    cancel.onclick = () => {\n",
              "      resolve(null);\n",
              "    };\n",
              "  });\n",
              "\n",
              "  // Wait for the user to pick the files.\n",
              "  const files = yield {\n",
              "    promise: Promise.race([pickedPromise, cancelPromise]),\n",
              "    response: {\n",
              "      action: 'starting',\n",
              "    }\n",
              "  };\n",
              "\n",
              "  cancel.remove();\n",
              "\n",
              "  // Disable the input element since further picks are not allowed.\n",
              "  inputElement.disabled = true;\n",
              "\n",
              "  if (!files) {\n",
              "    return {\n",
              "      response: {\n",
              "        action: 'complete',\n",
              "      }\n",
              "    };\n",
              "  }\n",
              "\n",
              "  for (const file of files) {\n",
              "    const li = document.createElement('li');\n",
              "    li.append(span(file.name, {fontWeight: 'bold'}));\n",
              "    li.append(span(\n",
              "        `(${file.type || 'n/a'}) - ${file.size} bytes, ` +\n",
              "        `last modified: ${\n",
              "            file.lastModifiedDate ? file.lastModifiedDate.toLocaleDateString() :\n",
              "                                    'n/a'} - `));\n",
              "    const percent = span('0% done');\n",
              "    li.appendChild(percent);\n",
              "\n",
              "    outputElement.appendChild(li);\n",
              "\n",
              "    const fileDataPromise = new Promise((resolve) => {\n",
              "      const reader = new FileReader();\n",
              "      reader.onload = (e) => {\n",
              "        resolve(e.target.result);\n",
              "      };\n",
              "      reader.readAsArrayBuffer(file);\n",
              "    });\n",
              "    // Wait for the data to be ready.\n",
              "    let fileData = yield {\n",
              "      promise: fileDataPromise,\n",
              "      response: {\n",
              "        action: 'continue',\n",
              "      }\n",
              "    };\n",
              "\n",
              "    // Use a chunked sending to avoid message size limits. See b/62115660.\n",
              "    let position = 0;\n",
              "    do {\n",
              "      const length = Math.min(fileData.byteLength - position, MAX_PAYLOAD_SIZE);\n",
              "      const chunk = new Uint8Array(fileData, position, length);\n",
              "      position += length;\n",
              "\n",
              "      const base64 = btoa(String.fromCharCode.apply(null, chunk));\n",
              "      yield {\n",
              "        response: {\n",
              "          action: 'append',\n",
              "          file: file.name,\n",
              "          data: base64,\n",
              "        },\n",
              "      };\n",
              "\n",
              "      let percentDone = fileData.byteLength === 0 ?\n",
              "          100 :\n",
              "          Math.round((position / fileData.byteLength) * 100);\n",
              "      percent.textContent = `${percentDone}% done`;\n",
              "\n",
              "    } while (position < fileData.byteLength);\n",
              "  }\n",
              "\n",
              "  // All done.\n",
              "  yield {\n",
              "    response: {\n",
              "      action: 'complete',\n",
              "    }\n",
              "  };\n",
              "}\n",
              "\n",
              "scope.google = scope.google || {};\n",
              "scope.google.colab = scope.google.colab || {};\n",
              "scope.google.colab._files = {\n",
              "  _uploadFiles,\n",
              "  _uploadFilesContinue,\n",
              "};\n",
              "})(self);\n",
              "</script> "
            ]
          },
          "metadata": {}
        },
        {
          "output_type": "stream",
          "name": "stdout",
          "text": [
            "Saving sample_submission.csv to sample_submission.csv\n",
            "Saving test.csv to test.csv\n",
            "Saving train.csv to train.csv\n"
          ]
        }
      ],
      "source": [
        "import pandas as pd\n",
        "import numpy as np\n",
        "import matplotlib.pyplot as plt\n",
        "from sklearn.model_selection import train_test_split\n",
        "from sklearn.linear_model import LinearRegression\n",
        "from sklearn.feature_selection import RFECV\n",
        "from time import time\n",
        "from sklearn.metrics import r2_score, mean_absolute_error, mean_squared_error\n",
        "from google.colab import files\n",
        "uploaded = files.upload() "
      ]
    },
    {
      "cell_type": "markdown",
      "source": [],
      "metadata": {
        "id": "EQ-MXk3jpZuZ"
      }
    },
    {
      "cell_type": "code",
      "source": [
        "train = pd.read_csv('train.csv')\n",
        "test = pd.read_csv('test.csv')\n",
        "train['logSales'] = np.log(train['SalePrice'])\n",
        "\n",
        "features = train.drop(['SalePrice', 'logSales'], axis = 1)\n",
        "labels = train['logSales']\n",
        "features['train_code'] = 1\n",
        "test['train_code'] = 0\n",
        "\n",
        "dfs = [features, test]\n",
        "opSet = pd.concat(dfs)\n",
        "print(opSet.head())\n",
        "\n",
        "''' print(opSet.info()) '''\n",
        "\n",
        "\n",
        "def counter(col_name):\n",
        "  return (train[col_name].isna().sum())\n",
        "for i in train.columns:\n",
        "    na_counter = counter(i)\n",
        "    if na_counter > 0:\n",
        "      print(f\"the column {i} has {na_counter} NA values\")\n",
        "\n",
        "def clean_data(df):\n",
        "  replace_na_columns = [\"PoolQC\", \"Fence\", \"MiscFeature\", 'LotFrontage', 'MasVnrArea']\n",
        "  for k in replace_na_columns:\n",
        "    df[k] = df[k].fillna(0)\n",
        "  meangrgYr = np.mean(df[\"GarageYrBlt\"])\n",
        "  df[\"GarageYrBlt\"] = df[\"GarageYrBlt\"].fillna(meangrgYr)\n",
        "  df = pd.get_dummies(df, dummy_na = True)\n",
        "  return(df)\n",
        "\n",
        "cleaned = clean_data(opSet)\n",
        "''' print(cleaned.info()) '''\n",
        "\n"
      ],
      "metadata": {
        "colab": {
          "base_uri": "https://localhost:8080/",
          "height": 747
        },
        "id": "fQRMm4UD_2kE",
        "outputId": "674298b8-f7f8-4922-9daa-5de0101882e9"
      },
      "execution_count": null,
      "outputs": [
        {
          "output_type": "stream",
          "name": "stdout",
          "text": [
            "   Id  MSSubClass MSZoning  LotFrontage  LotArea Street Alley LotShape  \\\n",
            "0   1          60       RL         65.0     8450   Pave   NaN      Reg   \n",
            "1   2          20       RL         80.0     9600   Pave   NaN      Reg   \n",
            "2   3          60       RL         68.0    11250   Pave   NaN      IR1   \n",
            "3   4          70       RL         60.0     9550   Pave   NaN      IR1   \n",
            "4   5          60       RL         84.0    14260   Pave   NaN      IR1   \n",
            "\n",
            "  LandContour Utilities  ... PoolArea PoolQC Fence MiscFeature MiscVal MoSold  \\\n",
            "0         Lvl    AllPub  ...        0    NaN   NaN         NaN       0      2   \n",
            "1         Lvl    AllPub  ...        0    NaN   NaN         NaN       0      5   \n",
            "2         Lvl    AllPub  ...        0    NaN   NaN         NaN       0      9   \n",
            "3         Lvl    AllPub  ...        0    NaN   NaN         NaN       0      2   \n",
            "4         Lvl    AllPub  ...        0    NaN   NaN         NaN       0     12   \n",
            "\n",
            "  YrSold  SaleType  SaleCondition  train_code  \n",
            "0   2008        WD         Normal           1  \n",
            "1   2007        WD         Normal           1  \n",
            "2   2008        WD         Normal           1  \n",
            "3   2006        WD        Abnorml           1  \n",
            "4   2008        WD         Normal           1  \n",
            "\n",
            "[5 rows x 81 columns]\n",
            "the column LotFrontage has 259 NA values\n",
            "the column Alley has 1369 NA values\n",
            "the column MasVnrType has 8 NA values\n",
            "the column MasVnrArea has 8 NA values\n",
            "the column BsmtQual has 37 NA values\n",
            "the column BsmtCond has 37 NA values\n",
            "the column BsmtExposure has 38 NA values\n",
            "the column BsmtFinType1 has 37 NA values\n",
            "the column BsmtFinType2 has 38 NA values\n",
            "the column Electrical has 1 NA values\n",
            "the column FireplaceQu has 690 NA values\n",
            "the column GarageType has 81 NA values\n",
            "the column GarageYrBlt has 81 NA values\n",
            "the column GarageFinish has 81 NA values\n",
            "the column GarageQual has 81 NA values\n",
            "the column GarageCond has 81 NA values\n",
            "the column PoolQC has 1453 NA values\n",
            "the column Fence has 1179 NA values\n",
            "the column MiscFeature has 1406 NA values\n"
          ]
        },
        {
          "output_type": "execute_result",
          "data": {
            "text/plain": [
              "' print(cleaned.info()) '"
            ],
            "application/vnd.google.colaboratory.intrinsic+json": {
              "type": "string"
            }
          },
          "metadata": {},
          "execution_count": 39
        }
      ]
    },
    {
      "cell_type": "code",
      "source": [
        "tester = cleaned.query(\"train_code == 0\")\n",
        "trainer = cleaned.query('train_code == 1')\n",
        "print(trainer.head())\n",
        "trainer = trainer.drop([\"Id\"], axis =1)\n",
        "x_train, x_test, y_train, y_test = train_test_split(trainer, labels, test_size = 0.1, random_state = 29)\n",
        "\n",
        "\n",
        "\n",
        "\n"
      ],
      "metadata": {
        "colab": {
          "base_uri": "https://localhost:8080/"
        },
        "id": "HqINcATVcOcJ",
        "outputId": "b1ec5d16-bb54-4ad4-dbf1-487ba7d47025"
      },
      "execution_count": null,
      "outputs": [
        {
          "output_type": "stream",
          "name": "stdout",
          "text": [
            "   Id  MSSubClass  LotFrontage  LotArea  OverallQual  OverallCond  YearBuilt  \\\n",
            "0   1          60         65.0     8450            7            5       2003   \n",
            "1   2          20         80.0     9600            6            8       1976   \n",
            "2   3          60         68.0    11250            7            5       2001   \n",
            "3   4          70         60.0     9550            7            5       1915   \n",
            "4   5          60         84.0    14260            8            5       2000   \n",
            "\n",
            "   YearRemodAdd  MasVnrArea  BsmtFinSF1  ...  SaleType_Oth  SaleType_WD  \\\n",
            "0          2003       196.0       706.0  ...             0            1   \n",
            "1          1976         0.0       978.0  ...             0            1   \n",
            "2          2002       162.0       486.0  ...             0            1   \n",
            "3          1970         0.0       216.0  ...             0            1   \n",
            "4          2000       350.0       655.0  ...             0            1   \n",
            "\n",
            "   SaleType_nan  SaleCondition_Abnorml  SaleCondition_AdjLand  \\\n",
            "0             0                      0                      0   \n",
            "1             0                      0                      0   \n",
            "2             0                      0                      0   \n",
            "3             0                      1                      0   \n",
            "4             0                      0                      0   \n",
            "\n",
            "   SaleCondition_Alloca  SaleCondition_Family  SaleCondition_Normal  \\\n",
            "0                     0                     0                     1   \n",
            "1                     0                     0                     1   \n",
            "2                     0                     0                     1   \n",
            "3                     0                     0                     0   \n",
            "4                     0                     0                     1   \n",
            "\n",
            "   SaleCondition_Partial  SaleCondition_nan  \n",
            "0                      0                  0  \n",
            "1                      0                  0  \n",
            "2                      0                  0  \n",
            "3                      0                  0  \n",
            "4                      0                  0  \n",
            "\n",
            "[5 rows x 336 columns]\n"
          ]
        }
      ]
    },
    {
      "cell_type": "markdown",
      "source": [],
      "metadata": {
        "id": "h-s6IidtJ_7h"
      }
    },
    {
      "cell_type": "code",
      "source": [
        "estimator = LinearRegression()\n",
        "feat_select = RFECV(estimator, step = 1)\n",
        "feat_select = feat_select.fit(x_train, y_train)\n",
        "\n"
      ],
      "metadata": {
        "id": "6H2G4aNOKAUb"
      },
      "execution_count": null,
      "outputs": []
    },
    {
      "cell_type": "code",
      "source": [
        "for col in tester.columns:\n",
        "  tester[col] = tester[col].fillna(0)\n",
        "\n",
        "def evaluate_model(name, model, features, labels):\n",
        "    start = time()\n",
        "    pred = model.predict(features)\n",
        "    end = time()\n",
        "    model_r2 = r2_score(labels, pred)\n",
        "    mse = mean_squared_error(labels, pred)\n",
        "    mae = mean_absolute_error(labels, pred)\n",
        "    print('{} -- model R^2: {}, MSE: {}, MAE: {}, latency: {}ms'. format(name, model_r2, mse, mae, round((end-start)*1000, 1)))\n",
        "\n",
        "def counter(col_name):\n",
        "  return (tester[col_name].isna().sum())\n",
        "for i in tester.columns:\n",
        "    na_counter = counter(i)\n",
        "    if na_counter > 0:\n",
        "      print(f\"the column {i} has {na_counter} NA values\")\n",
        "evaluate_model('LR1', feat_select, x_test, y_test)\n",
        "\n",
        "tester2 = tester.drop(['Id'], axis = 1)\n",
        "tester2['preds'] = np.exp(feat_select.predict(tester2))\n",
        "submissiondf = pd.DataFrame({'Id': tester['Id'], 'SalePrice': tester2['preds']})\n"
      ],
      "metadata": {
        "colab": {
          "base_uri": "https://localhost:8080/"
        },
        "id": "TsvuU6OFNKHW",
        "outputId": "9e1aec90-7f3f-4e86-c257-64dc21c0d99f"
      },
      "execution_count": null,
      "outputs": [
        {
          "output_type": "stream",
          "name": "stdout",
          "text": [
            "LR1 -- model R^2: 0.5831432593237358, MSE: 0.06638239994856737, MAE: 0.10567154855207693, latency: 5.3ms\n"
          ]
        },
        {
          "output_type": "stream",
          "name": "stderr",
          "text": [
            "/usr/local/lib/python3.7/dist-packages/ipykernel_launcher.py:2: SettingWithCopyWarning: \n",
            "A value is trying to be set on a copy of a slice from a DataFrame.\n",
            "Try using .loc[row_indexer,col_indexer] = value instead\n",
            "\n",
            "See the caveats in the documentation: https://pandas.pydata.org/pandas-docs/stable/user_guide/indexing.html#returning-a-view-versus-a-copy\n",
            "  \n"
          ]
        }
      ]
    },
    {
      "cell_type": "code",
      "source": [
        "print(submissiondf.isna().sum())\n",
        "submissiondf.to_csv('submissiondf.csv', index = False)"
      ],
      "metadata": {
        "colab": {
          "base_uri": "https://localhost:8080/"
        },
        "id": "7A-naH5-Sp6M",
        "outputId": "2be840df-3d81-4d62-becf-d2b531b162fa"
      },
      "execution_count": null,
      "outputs": [
        {
          "output_type": "stream",
          "name": "stdout",
          "text": [
            "Id           0\n",
            "SalePrice    0\n",
            "dtype: int64\n"
          ]
        }
      ]
    }
  ]
}