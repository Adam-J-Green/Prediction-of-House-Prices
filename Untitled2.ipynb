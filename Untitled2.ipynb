{
  "nbformat": 4,
  "nbformat_minor": 0,
  "metadata": {
    "colab": {
      "provenance": [],
      "authorship_tag": "ABX9TyNMhV2VadwGk54AmB6/0ens",
      "include_colab_link": true
    },
    "kernelspec": {
      "name": "python3",
      "display_name": "Python 3"
    },
    "language_info": {
      "name": "python"
    }
  },
  "cells": [
    {
      "cell_type": "markdown",
      "metadata": {
        "id": "view-in-github",
        "colab_type": "text"
      },
      "source": [
        "<a href=\"https://colab.research.google.com/github/JollygreenG-10/Prediction-of-House-Prices/blob/main/Untitled2.ipynb\" target=\"_parent\"><img src=\"https://colab.research.google.com/assets/colab-badge.svg\" alt=\"Open In Colab\"/></a>"
      ]
    },
    {
      "cell_type": "markdown",
      "source": [
        "Assignment 1: Prediction of Housing Prices"
      ],
      "metadata": {
        "id": "Hca4VSA6pO4S"
      }
    },
    {
      "cell_type": "code",
      "execution_count": null,
      "metadata": {
        "colab": {
          "base_uri": "https://localhost:8080/",
          "height": 142
        },
        "id": "IqAJ9ppi_jkl",
        "outputId": "53730190-aa92-4ff0-e3b8-35f70b9e9a38"
      },
      "outputs": [
        {
          "output_type": "display_data",
          "data": {
            "text/plain": [
              "<IPython.core.display.HTML object>"
            ],
            "text/html": [
              "\n",
              "     <input type=\"file\" id=\"files-851d749e-9569-4d81-9d70-bf91f4890fd3\" name=\"files[]\" multiple disabled\n",
              "        style=\"border:none\" />\n",
              "     <output id=\"result-851d749e-9569-4d81-9d70-bf91f4890fd3\">\n",
              "      Upload widget is only available when the cell has been executed in the\n",
              "      current browser session. Please rerun this cell to enable.\n",
              "      </output>\n",
              "      <script>// Copyright 2017 Google LLC\n",
              "//\n",
              "// Licensed under the Apache License, Version 2.0 (the \"License\");\n",
              "// you may not use this file except in compliance with the License.\n",
              "// You may obtain a copy of the License at\n",
              "//\n",
              "//      http://www.apache.org/licenses/LICENSE-2.0\n",
              "//\n",
              "// Unless required by applicable law or agreed to in writing, software\n",
              "// distributed under the License is distributed on an \"AS IS\" BASIS,\n",
              "// WITHOUT WARRANTIES OR CONDITIONS OF ANY KIND, either express or implied.\n",
              "// See the License for the specific language governing permissions and\n",
              "// limitations under the License.\n",
              "\n",
              "/**\n",
              " * @fileoverview Helpers for google.colab Python module.\n",
              " */\n",
              "(function(scope) {\n",
              "function span(text, styleAttributes = {}) {\n",
              "  const element = document.createElement('span');\n",
              "  element.textContent = text;\n",
              "  for (const key of Object.keys(styleAttributes)) {\n",
              "    element.style[key] = styleAttributes[key];\n",
              "  }\n",
              "  return element;\n",
              "}\n",
              "\n",
              "// Max number of bytes which will be uploaded at a time.\n",
              "const MAX_PAYLOAD_SIZE = 100 * 1024;\n",
              "\n",
              "function _uploadFiles(inputId, outputId) {\n",
              "  const steps = uploadFilesStep(inputId, outputId);\n",
              "  const outputElement = document.getElementById(outputId);\n",
              "  // Cache steps on the outputElement to make it available for the next call\n",
              "  // to uploadFilesContinue from Python.\n",
              "  outputElement.steps = steps;\n",
              "\n",
              "  return _uploadFilesContinue(outputId);\n",
              "}\n",
              "\n",
              "// This is roughly an async generator (not supported in the browser yet),\n",
              "// where there are multiple asynchronous steps and the Python side is going\n",
              "// to poll for completion of each step.\n",
              "// This uses a Promise to block the python side on completion of each step,\n",
              "// then passes the result of the previous step as the input to the next step.\n",
              "function _uploadFilesContinue(outputId) {\n",
              "  const outputElement = document.getElementById(outputId);\n",
              "  const steps = outputElement.steps;\n",
              "\n",
              "  const next = steps.next(outputElement.lastPromiseValue);\n",
              "  return Promise.resolve(next.value.promise).then((value) => {\n",
              "    // Cache the last promise value to make it available to the next\n",
              "    // step of the generator.\n",
              "    outputElement.lastPromiseValue = value;\n",
              "    return next.value.response;\n",
              "  });\n",
              "}\n",
              "\n",
              "/**\n",
              " * Generator function which is called between each async step of the upload\n",
              " * process.\n",
              " * @param {string} inputId Element ID of the input file picker element.\n",
              " * @param {string} outputId Element ID of the output display.\n",
              " * @return {!Iterable<!Object>} Iterable of next steps.\n",
              " */\n",
              "function* uploadFilesStep(inputId, outputId) {\n",
              "  const inputElement = document.getElementById(inputId);\n",
              "  inputElement.disabled = false;\n",
              "\n",
              "  const outputElement = document.getElementById(outputId);\n",
              "  outputElement.innerHTML = '';\n",
              "\n",
              "  const pickedPromise = new Promise((resolve) => {\n",
              "    inputElement.addEventListener('change', (e) => {\n",
              "      resolve(e.target.files);\n",
              "    });\n",
              "  });\n",
              "\n",
              "  const cancel = document.createElement('button');\n",
              "  inputElement.parentElement.appendChild(cancel);\n",
              "  cancel.textContent = 'Cancel upload';\n",
              "  const cancelPromise = new Promise((resolve) => {\n",
              "    cancel.onclick = () => {\n",
              "      resolve(null);\n",
              "    };\n",
              "  });\n",
              "\n",
              "  // Wait for the user to pick the files.\n",
              "  const files = yield {\n",
              "    promise: Promise.race([pickedPromise, cancelPromise]),\n",
              "    response: {\n",
              "      action: 'starting',\n",
              "    }\n",
              "  };\n",
              "\n",
              "  cancel.remove();\n",
              "\n",
              "  // Disable the input element since further picks are not allowed.\n",
              "  inputElement.disabled = true;\n",
              "\n",
              "  if (!files) {\n",
              "    return {\n",
              "      response: {\n",
              "        action: 'complete',\n",
              "      }\n",
              "    };\n",
              "  }\n",
              "\n",
              "  for (const file of files) {\n",
              "    const li = document.createElement('li');\n",
              "    li.append(span(file.name, {fontWeight: 'bold'}));\n",
              "    li.append(span(\n",
              "        `(${file.type || 'n/a'}) - ${file.size} bytes, ` +\n",
              "        `last modified: ${\n",
              "            file.lastModifiedDate ? file.lastModifiedDate.toLocaleDateString() :\n",
              "                                    'n/a'} - `));\n",
              "    const percent = span('0% done');\n",
              "    li.appendChild(percent);\n",
              "\n",
              "    outputElement.appendChild(li);\n",
              "\n",
              "    const fileDataPromise = new Promise((resolve) => {\n",
              "      const reader = new FileReader();\n",
              "      reader.onload = (e) => {\n",
              "        resolve(e.target.result);\n",
              "      };\n",
              "      reader.readAsArrayBuffer(file);\n",
              "    });\n",
              "    // Wait for the data to be ready.\n",
              "    let fileData = yield {\n",
              "      promise: fileDataPromise,\n",
              "      response: {\n",
              "        action: 'continue',\n",
              "      }\n",
              "    };\n",
              "\n",
              "    // Use a chunked sending to avoid message size limits. See b/62115660.\n",
              "    let position = 0;\n",
              "    do {\n",
              "      const length = Math.min(fileData.byteLength - position, MAX_PAYLOAD_SIZE);\n",
              "      const chunk = new Uint8Array(fileData, position, length);\n",
              "      position += length;\n",
              "\n",
              "      const base64 = btoa(String.fromCharCode.apply(null, chunk));\n",
              "      yield {\n",
              "        response: {\n",
              "          action: 'append',\n",
              "          file: file.name,\n",
              "          data: base64,\n",
              "        },\n",
              "      };\n",
              "\n",
              "      let percentDone = fileData.byteLength === 0 ?\n",
              "          100 :\n",
              "          Math.round((position / fileData.byteLength) * 100);\n",
              "      percent.textContent = `${percentDone}% done`;\n",
              "\n",
              "    } while (position < fileData.byteLength);\n",
              "  }\n",
              "\n",
              "  // All done.\n",
              "  yield {\n",
              "    response: {\n",
              "      action: 'complete',\n",
              "    }\n",
              "  };\n",
              "}\n",
              "\n",
              "scope.google = scope.google || {};\n",
              "scope.google.colab = scope.google.colab || {};\n",
              "scope.google.colab._files = {\n",
              "  _uploadFiles,\n",
              "  _uploadFilesContinue,\n",
              "};\n",
              "})(self);\n",
              "</script> "
            ]
          },
          "metadata": {}
        },
        {
          "output_type": "stream",
          "name": "stdout",
          "text": [
            "Saving sample_submission.csv to sample_submission.csv\n",
            "Saving test.csv to test.csv\n",
            "Saving train.csv to train.csv\n"
          ]
        }
      ],
      "source": [
        "import pandas as pd\n",
        "import numpy as np\n",
        "import matplotlib.pyplot as plt\n",
        "from sklearn.model_selection import train_test_split\n",
        "from sklearn.linear_model import LinearRegression\n",
        "from sklearn.feature_selection import RFECV\n",
        "from time import time\n",
        "from sklearn.metrics import r2_score, mean_absolute_error, mean_squared_error\n",
        "from google.colab import files\n",
        "uploaded = files.upload() "
      ]
    },
    {
      "cell_type": "markdown",
      "source": [
        "# Executive Summary\n",
        "\n",
        "Completion of a kaggle submission for housing price predictions steps involved data maniuplation and cleaning, exploratory analysis, model feature selection, model training and finally, model prediction. This process was supported by resources including in-class colab notebooks for multiple linear regression and subset selection, Toward Data Science articles (links below), and previous personal code for multiple linear regression. Data manipulation, among many actions, included reading training and test data, setting features and labels and handling NA values using methods including dummy variable encoding. EDA then used the transformed trainng data to explore relationships between predictors, the most valuable predictors and those that included few non-NA values. Data plotting was completed during this step.  Finally, using knowledge gained from EDA, the datasets were cleaned further to remove predictors deemed unneccesary and all remaining categorical predictors were converted to dummy variables in both the training and final test datasets.  Cross-validation was then used for feature selection and the final linear model including *x number of predictors* was trained and validated (R2 =, MSE = before the final test data was passed into the model to predict kaggle submission values. The best kaggle submission sscore achieved was 0.12156 \n",
        "![Untitled.jpg](data:image/jpeg;base64,/9j/4AAQSkZJRgABAQAASABIAAD/4QBqRXhpZgAATU0AKgAAAAgAAgESAAMAAAABAAEAAIdpAAQAAAABAAAAJgAAAAAAA5KGAAcAAAASAAAAUKACAAQAAAABAAAESaADAAQAAAABAAAAywAAAABBU0NJSQAAAFNjcmVlbnNob3T/4QkhaHR0cDovL25zLmFkb2JlLmNvbS94YXAvMS4wLwA8P3hwYWNrZXQgYmVnaW49Iu+7vyIgaWQ9Ilc1TTBNcENlaGlIenJlU3pOVGN6a2M5ZCI/PiA8eDp4bXBtZXRhIHhtbG5zOng9ImFkb2JlOm5zOm1ldGEvIiB4OnhtcHRrPSJYTVAgQ29yZSA2LjAuMCI+IDxyZGY6UkRGIHhtbG5zOnJkZj0iaHR0cDovL3d3dy53My5vcmcvMTk5OS8wMi8yMi1yZGYtc3ludGF4LW5zIyI+IDxyZGY6RGVzY3JpcHRpb24gcmRmOmFib3V0PSIiLz4gPC9yZGY6UkRGPiA8L3g6eG1wbWV0YT4gICAgICAgICAgICAgICAgICAgICAgICAgICAgICAgICAgICAgICAgICAgICAgICAgICAgICAgICAgICAgICAgICAgICAgICAgICAgICAgICAgICAgICAgICAgICAgICAgICAgICAgICAgICAgICAgICAgICAgICAgICAgICAgICAgICAgICAgICAgICAgICAgICAgICAgICAgICAgICAgICAgICAgICAgICAgICAgICAgICAgICAgICAgICAgICAgICAgICAgICAgICAgICAgICAgICAgICAgICAgICAgICAgICAgICAgICAgICAgICAgICAgICAgICAgICAgICAgICAgICAgICAgICAgICAgICAgICAgICAgICAgICAgICAgICAgICAgICAgICAgICAgICAgICAgICAgICAgICAgICAgICAgICAgICAgICAgICAgICAgICAgICAgICAgICAgICAgICAgICAgICAgICAgICAgICAgICAgICAgICAgICAgICAgICAgICAgICAgICAgICAgICAgICAgICAgICAgICAgICAgICAgICAgICAgICAgICAgICAgICAgICAgICAgICAgICAgICAgICAgICAgICAgICAgICAgICAgICAgICAgICAgICAgICAgICAgICAgICAgICAgICAgICAgICAgICAgICAgICAgICAgICAgICAgICAgICAgICAgICAgICAgICAgICAgICAgICAgICAgICAgICAgICAgICAgICAgICAgICAgICAgICAgICAgICAgICAgICAgICAgICAgICAgICAgICAgICAgICAgICAgICAgICAgICAgICAgICAgICAgICAgICAgICAgICAgICAgICAgICAgICAgICAgICAgICAgICAgICAgICAgICAgICAgICAgICAgICAgICAgICAgICAgICAgICAgICAgICAgICAgICAgICAgICAgICAgICAgICAgICAgICAgICAgICAgICAgICAgICAgICAgICAgICAgICAgICAgICAgICAgICAgICAgICAgICAgICAgICAgICAgICAgICAgICAgICAgICAgICAgICAgICAgICAgICAgICAgICAgICAgICAgICAgICAgICAgICAgICAgICAgICAgICAgICAgICAgICAgICAgICAgICAgICAgICAgICAgICAgICAgICAgICAgICAgICAgICAgICAgICAgICAgICAgICAgICAgICAgICAgICAgICAgICAgICAgICAgICAgICAgICAgICAgICAgICAgICAgICAgICAgICAgICAgICAgICAgICAgICAgICAgICAgICAgICAgICAgICAgICAgICAgICAgICAgICAgICAgICAgICAgICAgICAgICAgICAgICAgICAgICAgICAgICAgICAgICAgICAgICAgICAgICAgICAgICAgICAgICAgICAgICAgICAgICAgICAgICAgICAgICAgICAgICAgICAgICAgICAgICAgICAgICAgICAgICAgICAgICAgICAgICAgICAgICAgICAgICAgICAgICAgICAgICAgICAgICAgICAgICAgICAgICAgICAgICAgICAgICAgICAgICAgICAgICAgICAgICAgICAgICAgICAgICAgICAgICAgICAgICAgICAgICAgICAgICAgICAgICAgICAgICAgICAgICAgICAgICAgICAgICAgICAgICAgICAgICAgICAgICAgICAgICAgICAgICAgICAgICAgICAgICAgICAgICAgICAgICAgICAgICAgICAgICAgICAgICAgICAgICAgICAgICAgICAgICAgICAgICAgICAgICAgICAgICAgICAgICAgICAgICAgICAgICAgICAgICAgICAgICAgICAgICAgICAgICAgICAgICAgICAgICAgICAgICAgICAgICAgICAgICAgICAgICAgICAgICAgICAgICAgICAgICAgICAgICAgICAgICAgICAgICAgICAgICAgICAgICAgICAgICAgICAgICAgICAgICAgICAgICAgICAgICAgICAgICAgICAgICAgICAgICAgICAgICAgICAgICAgICAgICAgICAgICAgICAgICAgICAgICAgICAgICAgICAgICAgICAgICAgICAgICAgICAgICAgICAgICAgICAgICAgICAgICAgICAgICAgICAgICAgICAgICAgICAgICAgICAgICAgICAgICAgICAgICAgICAgICAgICAgICAgICAgICAgICAgICAgICAgICAgICAgICAgICAgICAgICAgICAgICAgICAgICAgICAgICAgICAgICAgICAgICAgICAgICAgICAgICAgICAgICAgICAgICAgICAgICAgICAgICAgICAgICAgICAgICAgICAgICAgICAgICAgICAgICAgICAgICAgICAgICAgICAgICAgICAgICAgICAgICAgICAgICAgICAgICAgICAgICAgICAgICAgICAgICAgICAgICAgICAgICAgICAgICAgICAgICAgICAgICAgICAgICAgICAgICAgICAgICAgICAgICAgICAgICAgICAgICAgICAgICAgICAgICAgICAgICAgICAgICAgICAgICAgICAgICAgICAgICAgICAgICAgICAgICAgICAgICAgICAgICAgICAgICA8P3hwYWNrZXQgZW5kPSJ3Ij8+AP/tADhQaG90b3Nob3AgMy4wADhCSU0EBAAAAAAAADhCSU0EJQAAAAAAENQdjNmPALIE6YAJmOz4Qn7/4hvsSUNDX1BST0ZJTEUAAQEAABvcYXBwbAIQAABtbnRyUkdCIFhZWiAH5gAKAAMADwAdADRhY3NwQVBQTAAAAABBUFBMAAAAAAAAAAAAAAAAAAAAAAAA9tYAAQAAAADTLWFwcGwAAAAAAAAAAAAAAAAAAAAAAAAAAAAAAAAAAAAAAAAAAAAAAAAAAAAAAAAAAAAAABJkZXNjAAABXAAAAGJkc2NtAAABwAAABJxjcHJ0AAAGXAAAACN3dHB0AAAGgAAAABRyWFlaAAAGlAAAABRnWFlaAAAGqAAAABRiWFlaAAAGvAAAABRyVFJDAAAG0AAACAxhYXJnAAAO3AAAACB2Y2d0AAAO/AAABhJuZGluAAAVEAAABj5jaGFkAAAbUAAAACxtbW9kAAAbfAAAACh2Y2dwAAAbpAAAADhiVFJDAAAG0AAACAxnVFJDAAAG0AAACAxhYWJnAAAO3AAAACBhYWdnAAAO3AAAACBkZXNjAAAAAAAAAAhEaXNwbGF5AAAAAAAAAAAAAAAAAAAAAAAAAAAAAAAAAAAAAAAAAAAAAAAAAAAAAAAAAAAAAAAAAAAAAAAAAAAAAAAAAAAAAAAAAAAAAAAAAAAAAAAAAAAAbWx1YwAAAAAAAAAmAAAADGhySFIAAAAUAAAB2GtvS1IAAAAMAAAB7G5iTk8AAAASAAAB+GlkAAAAAAASAAACCmh1SFUAAAAUAAACHGNzQ1oAAAAWAAACMGRhREsAAAAcAAACRm5sTkwAAAAWAAACYmZpRkkAAAAQAAACeGl0SVQAAAAYAAACiGVzRVMAAAAWAAACoHJvUk8AAAASAAACtmZyQ0EAAAAWAAACyGFyAAAAAAAUAAAC3nVrVUEAAAAcAAAC8mhlSUwAAAAWAAADDnpoVFcAAAAKAAADJHZpVk4AAAAOAAADLnNrU0sAAAAWAAADPHpoQ04AAAAKAAADJHJ1UlUAAAAkAAADUmVuR0IAAAAUAAADdmZyRlIAAAAWAAADim1zAAAAAAASAAADoGhpSU4AAAASAAADsnRoVEgAAAAMAAADxGNhRVMAAAAYAAAD0GVuQVUAAAAUAAADdmVzWEwAAAASAAACtmRlREUAAAAQAAAD6GVuVVMAAAASAAAD+HB0QlIAAAAYAAAECnBsUEwAAAASAAAEImVsR1IAAAAiAAAENHN2U0UAAAAQAAAEVnRyVFIAAAAUAAAEZnB0UFQAAAAWAAAEemphSlAAAAAMAAAEkABMAEMARAAgAHUAIABiAG8AagBpzuy37AAgAEwAQwBEAEYAYQByAGcAZQAtAEwAQwBEAEwAQwBEACAAVwBhAHIAbgBhAFMAegDtAG4AZQBzACAATABDAEQAQgBhAHIAZQB2AG4A/QAgAEwAQwBEAEwAQwBEAC0AZgBhAHIAdgBlAHMAawDmAHIAbQBLAGwAZQB1AHIAZQBuAC0ATABDAEQAVgDkAHIAaQAtAEwAQwBEAEwAQwBEACAAYQAgAGMAbwBsAG8AcgBpAEwAQwBEACAAYQAgAGMAbwBsAG8AcgBMAEMARAAgAGMAbwBsAG8AcgBBAEMATAAgAGMAbwB1AGwAZQB1AHIgDwBMAEMARAAgBkUGRAZIBkYGKQQaBD4EOwRMBD4EQAQ+BDIEOAQ5ACAATABDAEQgDwBMAEMARAAgBeYF0QXiBdUF4AXZX2mCcgBMAEMARABMAEMARAAgAE0A4AB1AEYAYQByAGUAYgBuAP0AIABMAEMARAQmBDIENQRCBD0EPgQ5ACAEFgQaAC0ENAQ4BEEEPwQ7BDUEOQBDAG8AbABvAHUAcgAgAEwAQwBEAEwAQwBEACAAYwBvAHUAbABlAHUAcgBXAGEAcgBuAGEAIABMAEMARAkwCQIJFwlACSgAIABMAEMARABMAEMARAAgDioONQBMAEMARAAgAGUAbgAgAGMAbwBsAG8AcgBGAGEAcgBiAC0ATABDAEQAQwBvAGwAbwByACAATABDAEQATABDAEQAIABDAG8AbABvAHIAaQBkAG8ASwBvAGwAbwByACAATABDAEQDiAOzA8cDwQPJA7wDtwAgA78DuAPMA70DtwAgAEwAQwBEAEYA5AByAGcALQBMAEMARABSAGUAbgBrAGwAaQAgAEwAQwBEAEwAQwBEACAAYQAgAEMAbwByAGUAczCrMOkw/ABMAEMARHRleHQAAAAAQ29weXJpZ2h0IEFwcGxlIEluYy4sIDIwMjIAAFhZWiAAAAAAAADzUgABAAAAARbPWFlaIAAAAAAAAGOFAAA38AAACfpYWVogAAAAAAAAbfMAALAKAAAgTVhZWiAAAAAAAAAlXgAAGAYAAKjmY3VydgAAAAAAAAQAAAAABQAKAA8AFAAZAB4AIwAoAC0AMgA2ADsAQABFAEoATwBUAFkAXgBjAGgAbQByAHcAfACBAIYAiwCQAJUAmgCfAKMAqACtALIAtwC8AMEAxgDLANAA1QDbAOAA5QDrAPAA9gD7AQEBBwENARMBGQEfASUBKwEyATgBPgFFAUwBUgFZAWABZwFuAXUBfAGDAYsBkgGaAaEBqQGxAbkBwQHJAdEB2QHhAekB8gH6AgMCDAIUAh0CJgIvAjgCQQJLAlQCXQJnAnECegKEAo4CmAKiAqwCtgLBAssC1QLgAusC9QMAAwsDFgMhAy0DOANDA08DWgNmA3IDfgOKA5YDogOuA7oDxwPTA+AD7AP5BAYEEwQgBC0EOwRIBFUEYwRxBH4EjASaBKgEtgTEBNME4QTwBP4FDQUcBSsFOgVJBVgFZwV3BYYFlgWmBbUFxQXVBeUF9gYGBhYGJwY3BkgGWQZqBnsGjAadBq8GwAbRBuMG9QcHBxkHKwc9B08HYQd0B4YHmQesB78H0gflB/gICwgfCDIIRghaCG4IggiWCKoIvgjSCOcI+wkQCSUJOglPCWQJeQmPCaQJugnPCeUJ+woRCicKPQpUCmoKgQqYCq4KxQrcCvMLCwsiCzkLUQtpC4ALmAuwC8gL4Qv5DBIMKgxDDFwMdQyODKcMwAzZDPMNDQ0mDUANWg10DY4NqQ3DDd4N+A4TDi4OSQ5kDn8Omw62DtIO7g8JDyUPQQ9eD3oPlg+zD88P7BAJECYQQxBhEH4QmxC5ENcQ9RETETERTxFtEYwRqhHJEegSBxImEkUSZBKEEqMSwxLjEwMTIxNDE2MTgxOkE8UT5RQGFCcUSRRqFIsUrRTOFPAVEhU0FVYVeBWbFb0V4BYDFiYWSRZsFo8WshbWFvoXHRdBF2UXiReuF9IX9xgbGEAYZRiKGK8Y1Rj6GSAZRRlrGZEZtxndGgQaKhpRGncanhrFGuwbFBs7G2MbihuyG9ocAhwqHFIcexyjHMwc9R0eHUcdcB2ZHcMd7B4WHkAeah6UHr4e6R8THz4faR+UH78f6iAVIEEgbCCYIMQg8CEcIUghdSGhIc4h+yInIlUigiKvIt0jCiM4I2YjlCPCI/AkHyRNJHwkqyTaJQklOCVoJZclxyX3JicmVyaHJrcm6CcYJ0kneierJ9woDSg/KHEooijUKQYpOClrKZ0p0CoCKjUqaCqbKs8rAis2K2krnSvRLAUsOSxuLKIs1y0MLUEtdi2rLeEuFi5MLoIuty7uLyQvWi+RL8cv/jA1MGwwpDDbMRIxSjGCMbox8jIqMmMymzLUMw0zRjN/M7gz8TQrNGU0njTYNRM1TTWHNcI1/TY3NnI2rjbpNyQ3YDecN9c4FDhQOIw4yDkFOUI5fzm8Ofk6Njp0OrI67zstO2s7qjvoPCc8ZTykPOM9Ij1hPaE94D4gPmA+oD7gPyE/YT+iP+JAI0BkQKZA50EpQWpBrEHuQjBCckK1QvdDOkN9Q8BEA0RHRIpEzkUSRVVFmkXeRiJGZ0arRvBHNUd7R8BIBUhLSJFI10kdSWNJqUnwSjdKfUrESwxLU0uaS+JMKkxyTLpNAk1KTZNN3E4lTm5Ot08AT0lPk0/dUCdQcVC7UQZRUFGbUeZSMVJ8UsdTE1NfU6pT9lRCVI9U21UoVXVVwlYPVlxWqVb3V0RXklfgWC9YfVjLWRpZaVm4WgdaVlqmWvVbRVuVW+VcNVyGXNZdJ114XcleGl5sXr1fD19hX7NgBWBXYKpg/GFPYaJh9WJJYpxi8GNDY5dj62RAZJRk6WU9ZZJl52Y9ZpJm6Gc9Z5Nn6Wg/aJZo7GlDaZpp8WpIap9q92tPa6dr/2xXbK9tCG1gbbluEm5rbsRvHm94b9FwK3CGcOBxOnGVcfByS3KmcwFzXXO4dBR0cHTMdSh1hXXhdj52m3b4d1Z3s3gReG54zHkqeYl553pGeqV7BHtje8J8IXyBfOF9QX2hfgF+Yn7CfyN/hH/lgEeAqIEKgWuBzYIwgpKC9INXg7qEHYSAhOOFR4Wrhg6GcobXhzuHn4gEiGmIzokziZmJ/opkisqLMIuWi/yMY4zKjTGNmI3/jmaOzo82j56QBpBukNaRP5GokhGSepLjk02TtpQglIqU9JVflcmWNJaflwqXdZfgmEyYuJkkmZCZ/JpomtWbQpuvnByciZz3nWSd0p5Anq6fHZ+Ln/qgaaDYoUehtqImopajBqN2o+akVqTHpTilqaYapoum/adup+CoUqjEqTepqaocqo+rAqt1q+msXKzQrUStuK4trqGvFq+LsACwdbDqsWCx1rJLssKzOLOutCW0nLUTtYq2AbZ5tvC3aLfguFm40blKucK6O7q1uy67p7whvJu9Fb2Pvgq+hL7/v3q/9cBwwOzBZ8Hjwl/C28NYw9TEUcTOxUvFyMZGxsPHQce/yD3IvMk6ybnKOMq3yzbLtsw1zLXNNc21zjbOts83z7jQOdC60TzRvtI/0sHTRNPG1EnUy9VO1dHWVdbY11zX4Nhk2OjZbNnx2nba+9uA3AXcit0Q3ZbeHN6i3ynfr+A24L3hROHM4lPi2+Nj4+vkc+T85YTmDeaW5x/nqegy6LzpRunQ6lvq5etw6/vshu0R7ZzuKO6070DvzPBY8OXxcvH/8ozzGfOn9DT0wvVQ9d72bfb794r4Gfio+Tj5x/pX+uf7d/wH/Jj9Kf26/kv+3P9t//9wYXJhAAAAAAADAAAAAmZmAADypwAADVkAABPQAAAKW3ZjZ3QAAAAAAAAAAAADAQAAAgAAAFYBLgHrAoQDLQPPBIYFRgYDBssHmAhuCUwKKQsHC+wM0g23DqcPphCvEbgSwhPLFNAV2BbfF+gY6xnxGvob/R0CHgcfCiANIRIiEiMWJBglFyYYJxwoHSkgKiArIiwkLSYuJy8sMDAxMzI2Mzo0PzVFNkk3SThGOUY6RjtDPEE9PD46PzRALkEmQh1DFEQKRP9F80bmR9lIzEm8SqhLk0x/TWpOWE9FUDVRJ1IbUxBUCFUDVgFXAlgEWQlaEFsZXCRdLV4pXyRgH2EaYhVjE2QSZRNmFmcbaCJpLGo3a0ZsVm1pbnxvknCkcaBymHORdIx1iXaKd454mHmoer57230Afix/X4CZgduDIoRvhcGHBogjiTKKQotTjGaNeo6Rj6iQwJHakvWUEZUtlkqXZpiDmZ6auZvSnOSd9Z8HoBmhKqI8o0+kYqV0poWnlqioqbmqyqvarOqt+a8IsBexKLI/s1m0cbWJtp23r7i/ucm6z7vQvMu9wr6xv5vAf8FfwjrDEsPmxLnFqsacx4vIeMliyknLLswOzOzNxc6cz3DQQtET0ePSstOB1FHVJdYE1unXzNiv2ZLadNtW3DjdGt383t7fweCl4Ynib+NV5DzlJOYN5vbn1Oi06Zfqf+ts7GPtY+5w74vwtfHv80D0ofYT95j5K/rO/H/+Ov//AAAAVgEuAesChAMyA+gEkgVLBhUG3QezCIwJZwpECyoMDwz8DecO2A/YEN8R5BLtE/MU9hX9FvsX/Rj+Gf0a9hvzHO8d5h7cH9IgxSG5IqYjiyRsJUwmKicJJ+ooySmpKooraSxLLS0uDS7vL9EwtDGXMnwzYzRRNUI2MjchOBI4/znuOtw7yTy2PaI+jD93QGBBSkIyQxpEAkTpRc5GsEeRSHNJVEo2SxdL+0zfTcNOqk+RUHtRZlJTU0FUMVUhVhNXB1f6WOtZ3FrMW71cr12gXpNfh2B8YXJiaWNhZFplVGZRZ05oS2lLakhrO2wubSFuFW8LcAJw/HH4cvlz/XUFdhJ3I3g6eVR6c3uWfLx95n8LgB+BLYI9g06EYoV3ho2Hpoi/idqK94wUjTKOUY9ukI2Rq5LIk+SU/5YalzWYUJlrmoWbn5y4ndCe6J/+oRSiKaM9pFClY6Z1p4eomKmpqsyr760SrjOvU7BxsY+yq7PEtNy18rcGuBm5Kro6u0q8WL1mvnS/f8CBwYPChcOGxIfFiMaKx4zIjcmNyo3LjcyMzYvOic+H0ITRgdJ903bUcdVv1nDXdNh72YXak9ui3LPdxt7Z3+3hAOIS4yLkMeU+5knnYuig6e3rNex77b7u/vA78XbyrvPk9Rj2S/d/+LP55/sc/FL9iv7E//8AAABWAUUCQQMvA+4EwQWHBlMHKAfxCLkJhgpSCxwL3gyjDW0OOQ8CD8EQhBFKEg8S0BOQFE8VDxXNFooXRhgBGLgZbhojGtgbixw+HO0dmx5IHvQfniBIIO4hlCI6ItwjfSQgJL4lXiX8JpgnNCfMKGUo/CmTKisqvytTK+YsgS0lLdgujC9CL/QwpzFbMg0yvzNwNCE00jWCNjI24TePOD047TmbOkk69TujPFE8/j2rPlk/Bz+1QGNBEkHAQnBDIEPQRIJFNEXnRppHT0gFSLtJcUorSuRLnkxaTRZN006ST1JQE1DWUZlSXlMkU+pUsVV6VkVXD1faWKZZc1pCWwxb1lyfXWheMl77X8VgkWFcYili9mPEZJNlYWYzZwRn1miqaX9qVGssbAVs3226bphvd3BXcTpyHnMEc+x01XXBdq93nniPeYF6d3trfGR9XX5Yf1SAUoFRglGDUoRUhVmGXYdliGuJc4p/i4iMko2ejqmPtpDDkdGS3pPulQSWKZdcmJCZxZr7nC6dYp6Vn8qg/KIyo2WkmqXPpwSoPKl3qq+r660qrmqvqrDvsjazgLTMthm3bLjEuh+7f7zivky/vMExwqzEK8Wxx0LI2sp4zB/N0M+N0VTTJtUA1uvY5Nrq3QDfJeFf46rmBeh66wDtpPBj8z/2OPlV/Jj//wAAbmRpbgAAAAAAAAY2AACVhwAAVVMAAFKpAACMrAAAJ3kAABcKAABQDQAAVDkAAiFHAAH1wgABSj0AAwEAAAIAAAABAAQACgATAB0AKgA4AEgAWQBsAIEAlwCvAMkA4wD9ARgBNQFTAXMBlQG4Ad0CAwIsAlYCgQKvAt4DDwNCA3cDrQPmBCAEXASbBNsFHAVgBaUF7QY2BoEGzgcdB20HvwgTCGkIwQkaCXUJ0gozCpcK/AtjC80MOQyoDRgNjA4CDnsO9w91D/YQehEBEYoSFhKkEzgT0BRqFQcVpRZFFuYXiBgrGNAZdBoZGr4bZBwLHLIdWh4DHq0fWyAVINEhjyJPIxEj0ySXJVsmISbmJ6wocyk6KgEqySuRLFstJS3wLtIvvDCmMZIyfjNpNFM1OjYfNwE34Di8OZQ6ajs9PA483D2pPnQ/P0AIQNFBs0K0Q7dEukW+RsNHyUjPSdZK3kvnTPFN+08IUBZRJlI4U0xUY1V8VphXvljoWhNbQVxwXaJe1WAKYUFie2O4ZPdmOGd7aMFqCmtVbKRt9W9IcJ5x73M8dIt13nc0eJB58XtXfMZ+PX++gUuC44SJhj2IAInRi7CNnI+SkUiTA5TFlpGYZZpDnCyeIqAlojSkTqZxqJuqy60ArzexTrNZtWi3fLmVu7K90r/2wh7ESMZ0yKDKzsz9zy3RXdOO1cDYE9pj3K3e7OEc4zjlQOcx6Q7q1+yO7i/vwfFI8sT0MvWa9vr4Ufml+vH8Ov1//sD//wAAAAEABAAKABIAHQApADcARgBXAGoAfgCUAKsAxADeAPgBEwEwAU4BbgGQAbMB2QIAAikCVAKCArEC4gMWA0wDhAO/A/sEPQSDBMwFGAVmBbYGCQZeBrYHEAdsB8sILAiPCPUJXAnGCi4KlwsDC3EL4QxVDMoNQw2+DjwOvQ9BD8gQURDeEW0R/xKUEy4TzRRuFRIVuBZhFwsXuBhmGRYZxxp5Gywb4RyXHU8eCB7CH4AgQiEGIc0iliNhJC4k/CXMJp4ncShFKRsp8irKK6Msfy1bLjsvKTAYMQkx/DLvM+M01zXKNrs3rDiaOYc6cjtbPEM9Kj4QPvU/2kC+Qa9CsUOzRLdFu0a/R8RIyknQStdL30znTfFO+1AIURZSJ1M5VE1VZFZ9V5pYuVnaWv1cIl1KXnRfoGDPYgFjNmRuZalm5mgmaWpqsWv6bUdulm/ocTxyfXO/dQR2THeXeOZ6OXuOfOd+RX+ogQ6CeYPnhVmG0IhKiceLSIzMjlKP4JF/kx6UwJZmmA6ZuJtknROexqB9ojaj8qWxp3WpPKsGrNWupbB8sly0NrYOt+O5tLuDvU6/GMDhwqnEcsY8yAfJ1supzYDPXNE+0yXVEdbI2FXZ5dt63RTesuBU4fzjqOVZ5w/oyeqI7EvuEO/X8aDzavU29wL4z/qb/Gf+M///AAAAAQADAAYADAATAB0AKAA2AEYAWABtAIUAnwC7ANoA/QEiAUoBdQGkAdYCCwJEAoECwgMIA1EDnwPyBEoEpwUJBXIF3wZUBs4HTgfVCGMI+QmWCjkK5QuZDEAM3A17DiAOyQ93ECoQ4xGfEmITKRP3FMcVnhZ7F1sYQBkrGhgbCxwCHPwd+h78IAAhByISIx0kLiU9JlInZyiAKZkqtSvRLPAuEC8yMFcxfjKkM880+zYpN1k4kjnSOxQ8WT2kPu9APUGNQt9EM0WLRuFIPEmWSvJMUE2tTwxQbFHKUypUi1XqV0pYqloJW2lcx14mX4Vg5WJDY6ZlA2ZkZ8NpJmqGa+htTG6vcBVxeHLgdER1rncYeH5563tYfMZ+Nn+ngRmCjoQEhXyG8ohaibGK/4xUjaeO+pBTka6TCpRplcaXK5iMme+bV5y9niafkaD8omSjzKU7pqeoEal6quasU628ryawj7H2s160xrYtt5C48LpRu669Cr5mv77BEsJlw7bFBMZQx5vI48opy2nMps3hzxrQUdGF0rTT4tUK1jDXUthy2Y7aqdvD3NXd5t7x3/zhAeIH4wbkBuUA5frm7efe6M3puOqi64jsbu1N7ivvB+/f8LjxifJa8ynz8vS89YL2RPcG98T4f/k7+fH6pfta/Ar8tv1j/g3+sv9Z//8AAHNmMzIAAAAAAAEMQgAABd7///MmAAAHkgAA/ZH///ui///9owAAA9wAAMBsbW1vZAAAAAAAAAYQAACgGwAAAADRsPUAAAAAAAAAAAAAAAAAAAAAAHZjZ3AAAAAAAAMAAAACZmYAAwAAAAJmZgADAAAAAmZmAAAAAiFHAAAAAAABSj0AAAAAAAH1wgAA/8AAEQgAywRJAwEiAAIRAQMRAf/EAB8AAAEFAQEBAQEBAAAAAAAAAAABAgMEBQYHCAkKC//EALUQAAIBAwMCBAMFBQQEAAABfQECAwAEEQUSITFBBhNRYQcicRQygZGhCCNCscEVUtHwJDNicoIJChYXGBkaJSYnKCkqNDU2Nzg5OkNERUZHSElKU1RVVldYWVpjZGVmZ2hpanN0dXZ3eHl6g4SFhoeIiYqSk5SVlpeYmZqio6Slpqeoqaqys7S1tre4ubrCw8TFxsfIycrS09TV1tfY2drh4uPk5ebn6Onq8fLz9PX29/j5+v/EAB8BAAMBAQEBAQEBAQEAAAAAAAABAgMEBQYHCAkKC//EALURAAIBAgQEAwQHBQQEAAECdwABAgMRBAUhMQYSQVEHYXETIjKBCBRCkaGxwQkjM1LwFWJy0QoWJDThJfEXGBkaJicoKSo1Njc4OTpDREVGR0hJSlNUVVZXWFlaY2RlZmdoaWpzdHV2d3h5eoKDhIWGh4iJipKTlJWWl5iZmqKjpKWmp6ipqrKztLW2t7i5usLDxMXGx8jJytLT1NXW19jZ2uLj5OXm5+jp6vLz9PX29/j5+v/bAEMAAQEBAQEBAgEBAgMCAgIDBAMDAwMEBgQEBAQEBgcGBgYGBgYHBwcHBwcHBwgICAgICAkJCQkJCwsLCwsLCwsLC//bAEMBAgICAwMDBQMDBQsIBggLCwsLCwsLCwsLCwsLCwsLCwsLCwsLCwsLCwsLCwsLCwsLCwsLCwsLCwsLCwsLCwsLC//dAAQARf/aAAwDAQACEQMRAD8A/v4orO1PVLXSoFluNzM7BI40GXdj0Cjuf0A5PFZS23ia/wD3lzcJYIekcKiRx9XfK59gvHqadgOmornP7E1P/oMXn/fNv/8AGaP7E1P/AKDF5/3zb/8Axmi3mB0dFc5/Ymp/9Bi8/wC+bf8A+M0f2Jqf/QYvP++bf/4zRbzA6Oiuc/sTU/8AoMXn/fNv/wDGaP7E1P8A6DF5/wB82/8A8Zot5gdHRXOf2Jqf/QYvP++bf/4zR/Ymp/8AQYvP++bf/wCM0W8wOjornP7E1P8A6DF5/wB82/8A8Zo/sTU/+gxef982/wD8Zot5gdHRXOf2Jqf/AEGLz/vm3/8AjNH9ian/ANBi8/75t/8A4zRbzA6Oiuc/sTU/+gxef982/wD8Zo/sTU/+gxef982//wAZot5gdHRXOf2Jqf8A0GLz/vm3/wDjNH9ian/0GLz/AL5t/wD4zRbzA6Oiuc/sTU/+gxef982//wAZo/sTU/8AoMXn/fNv/wDGaLeYHR0Vzn9ian/0GLz/AL5t/wD4zR/Ymp/9Bi8/75t//jNFvMDo6K5z+xNT/wCgxef982//AMZo/sTU/wDoMXn/AHzb/wDxmi3mB0dFc5/Ymp/9Bi8/75t//jNH9ian/wBBi8/75t//AIzRbzA6Oiuc/sTU/wDoMXn/AHzb/wDxmj+xNT/6DF5/3zb/APxmi3mB0dFc5/Ymp/8AQYvP++bf/wCM0f2Jqf8A0GLz/vm3/wDjNFvMDo6K5z+xNT/6DF5/3zb/APxmj+xNT/6DF5/3zb//ABmi3mB0dFc5/Ymp/wDQYvP++bf/AOM0f2Jqf/QYvP8Avm3/APjNFvMDo6K5z+xNT/6DF5/3zb//ABmj+xNT/wCgxef982//AMZot5gdHRXOf2Jqf/QYvP8Avm3/APjNH9ian/0GLz/vm3/+M0W8wOjornP7E1P/AKDF5/3zb/8Axmj+xNT/AOgxef8AfNv/APGaLeYHR0Vzn9ian/0GLz/vm3/+M0f2Jqf/AEGLz/vm3/8AjNFvMDo6K5z+xNT/AOgxef8AfNv/APGaP7E1P/oMXn/fNv8A/GaLeYHR0Vzn9ian/wBBi8/75t//AIzR/Ymp/wDQYvP++bf/AOM0W8wOjornP7E1P/oMXn/fNv8A/GaP7E1P/oMXn/fNv/8AGaLeYHR0Vzn9ian/ANBi8/75t/8A4zR/Ymp/9Bi8/wC+bf8A+M0W8wOjornP7E1P/oMXn/fNv/8AGaP7E1P/AKDF5/3zb/8Axmi3mB0dFc5/Ymp/9Bi8/wC+bf8A+M0f2Jqf/QYvP++bf/4zRbzA6Oiuc/sTU/8AoMXn/fNv/wDGaP7E1P8A6DF5/wB82/8A8Zot5gdHRXOf2Jqf/QYvP++bf/4zR/Ymp/8AQYvP++bf/wCM0W8wOjornP7E1P8A6DF5/wB82/8A8Zo/sTU/+gxef982/wD8Zot5gdHRXOf2Jqf/AEGLz/vm3/8AjNH9ian/ANBi8/75t/8A4zRbzA6Oiuc/sTU/+gxef982/wD8Zo/sTU/+gxef982//wAZot5gdHRXOf2Jqf8A0GLz/vm3/wDjNH9ian/0GLz/AL5t/wD4zRbzA6Oiuc/sTU/+gxef982//wAZo/sTU/8AoMXn/fNv/wDGaLeYHR0Vzn9ian/0GLz/AL5t/wD4zR/Ymp/9Bi8/75t//jNFvMDo6K5z+xNT/wCgxef982//AMZo/sTU/wDoMXn/AHzb/wDxmi3mB0dFc5/Ymp/9Bi8/75t//jNH9ian/wBBi8/75t//AIzRbzA6Oiuc/sTU/wDoMXn/AHzb/wDxmj+xNT/6DF5/3zb/APxmi3mB0dFc5/Ymp/8AQYvP++bf/wCM0f2Jqf8A0GLz/vm3/wDjNFvMDo6K5z+xNT/6DF5/3zb/APxmj+xNT/6DF5/3zb//ABmi3mB0dFc5/Ymp/wDQYvP++bf/AOM0f2Jqf/QYvP8Avm3/APjNFvMDo6K5z+xNT/6DF5/3zb//ABmj+xNT/wCgxef982//AMZot5gdHRXOf2Jqf/QYvP8Avm3/APjNH9ian/0GLz/vm3/+M0W8wOjornP7E1P/AKDF5/3zb/8Axmj+xNT/AOgxef8AfNv/APGaLeYHR0Vzn9ian/0GLz/vm3/+M0f2Jqf/AEGLz/vm3/8AjNFvMDo6K5z+xNT/AOgxef8AfNv/APGaP7E1P/oMXn/fNv8A/GaLeYHR0Vzn9ian/wBBi8/75t//AIzR/Ymp/wDQYvP++bf/AOM0W8wOjornP7E1P/oMXn/fNv8A/GaP7E1P/oMXn/fNv/8AGaLeYHR0Vzn9ian/ANBi8/75t/8A4zR/Ymp/9Bi8/wC+bf8A+M0W8wOjornP7E1P/oMXn/fNv/8AGaP7E1P/AKDF5/3zb/8Axmi3mB0dFc5/Ymp/9Bi8/wC+bf8A+M0f2Jqf/QYvP++bf/4zRbzA6Oiuc/sTU/8AoMXn/fNv/wDGaP7E1P8A6DF5/wB82/8A8Zot5gdHRXOf2Jqf/QYvP++bf/4zR/Ymp/8AQYvP++bf/wCM0W8wOjornP7E1P8A6DF5/wB82/8A8Zo/sTU/+gxef982/wD8Zot5gdHRXOf2Jqf/AEGLz/vm3/8AjNH9ian/ANBi8/75t/8A4zRbzA6Oiuc/sTU/+gxef982/wD8Zo/sTU/+gxef982//wAZot5gdHRXOf2Jqf8A0GLz/vm3/wDjNH9ian/0GLz/AL5t/wD4zRbzA6Oiuc/sTU/+gxef982//wAZo/sTU/8AoMXn/fNv/wDGaLeYHR0Vzn9ian/0GLz/AL5t/wD4zR/Ymp/9Bi8/75t//jNFvMDo6K5z+xNT/wCgxef982//AMZo/sTU/wDoMXn/AHzb/wDxmi3mB0dFc5/Ymp/9Bi8/75t//jNH9ian/wBBi8/75t//AIzRbzA6Oiuc/sTU/wDoMXn/AHzb/wDxmj+xNT/6DF5/3zb/APxmi3mB0dFc5/Ymp/8AQYvP++bf/wCM0f2Jqf8A0GLz/vm3/wDjNFvMDo6K5z+xNT/6DF5/3zb/APxmj+xNT/6DF5/3zb//ABmi3mB0dFc5/Ymp/wDQYvP++bf/AOM0f2Jqf/QYvP8Avm3/APjNFvMDo6K5z+xNT/6DF5/3zb//ABmj+xNT/wCgxef982//AMZot5gdHRXOf2Jqf/QYvP8Avm3/APjNH9ian/0GLz/vm3/+M0W8wOjormzpniC3+ez1Npj/AHbmNCp/GMRkfXn6GrGnawbi5OmajH9mvFXcUzuV16bkbjcPXgEdx0yWA3KKKKQH/9D+9HTF/tLWLrV5uVt3NtAOyhceY31ZuD7KPeunrnPC3/IMl/6/Lz/0fJXR03uAUUUUgCiiigAooooAKKKKACiiigAooooAKKKKACiiigAooooAKKKKACiiigAooooAKKKKACiiigAooooAKKKKACiiigAooooAKKKKACiiigAooooAKKKKACiiigAooooAKKKKACiiigAooooAKKKKACiiigAooooAKKKKACiiigAooooAKKKKACiiigAooooAKKKKACiiigAooooAKKKKACiiigAooooAKKKKACiiigAooooAKKKKACiiigAooooAKKKKACiiigAooooAKKKKACiiigAooooAKKKKACiiigAooooAKKKKACiiigAooooAKKKKACiiigAooooAKKKKACiiigAooooAKwPEdpLPpxvLP/j6tP30J/2l6r9GGVPsa36CM8GhAV7S5ivbWK8g5SVFdfowyKsVzng//kUtL/684P8A0AV0dNgf/9H+9Xwt/wAgyX/r8vP/AEokro65zwt/yDJf+vy8/wDSiSujpvcArHfxF4fjlvYJL63V9MQSXimVQbdGUsGkGfkBUEgtgEDNbFfil/wUg/Yv8Q/Gf9or4a6x8PX1ex0T4oXS+Bvikmk27yQ3/ha0SbVIvtciD/Rx5tu9j55IJivnjzyq0ID9jbjxb4VtFsHu9TtIhqpVbIvMi/aSw3ARZPz5HI25yOa0H1fSo79tKe6iW6SL7Q0JcCQRZI3lc5C5BG7GMiv52v26PgP4XP7Qnxck+OHwN1v4sWHivwLpWifC240XRG1aDRrq2iukntIpEBGjzG5eG4F23kpsC4kBiwe68Tx/Hr9lH4yeFPil8bPCPiv4gXerfAjT/BGoaj4U0q412STxVp0zzTpcLbCR4luWmLRzy4hJDbpB3LAfuXP8QvANrJYxXWuafG2poslmGuYwbhH+60QLfOD2K5BrodU1bS9D0+XVtbuYrO1gG6SadxHGg9WZiAB9TX8ef7TH7A37Zl18Gfhp4A8I/C/w/wCKtY8Ffs0f2Jqtv4m0WXWYodSjmtFmtdLmidYY9ZjTzJLU7n3NHtC7X8xf2r/b/wDhp4w8ef8ABHLxP8LvhRpet+KNXu/BumWmn2WoWM76vdsn2fAurTZ54nKjM8ZTerbgQCDTaA/Ub/hOvBI8Onxf/bFj/ZKkA3v2iP7OCSFH7zds+8QOvU4qTT/Gng7V9El8S6Tq1ldabBu827inR4E2DLbpAxUYHJyeK/lE8f8A7Jn7Qvg79kn9qT4c+LPh7a2fiLUfiL4EvrbR/Afg68l8JXmjWV7pj/b9O0tDM13I8Ucz6pbxyMytFtchSrn6z8d/CiXxZ+xx8NxH8Prvxb4B8NfEyHVfHnhPR/h5deC5NV0qO2nVH/4Ry5LTXsUF3JaTSoBKLgQkhWMe2iwH9Atz458E2fh+Lxbd6xYxaVPt8q9e4jW3fd02yFtpz2weal0zxj4Q1qK0n0bVbO7S/aRbZoZ0kEzRZLiMqTuKgHdjOMc1/Nv+098HPDnin9hy3H7NPwS8ReBvCtx8Z9G14aDf+F7vWt9jC8f2rUV8Lx/voLFirE2OyDeQzlEMuTrfFX9lz4p/Hzw1+y1pHwDjv/Bmp+Fta8X6rDr2m+CLvwVY6VqUNpPLYyXejzhmtrWedY4JllbF4jPtP7wAFgP6J9U+IXgHQ7U32ta5p9nAJ3tjJPcxxp50fDx5ZgN64+Zeo7itfQvEXh/xRp41bwzfW+o2rMVE1rKs0ZZeo3ISMjvzX82Ph39nP4q/Gf8A4I9ftG237RHwfkh+Jmsa58Sdf0nw9daYdQu7bVNRkuJIX0zfEZJSzvi2ngGZVwyEgiv3++CPww8EfB/4O6V4L+G/hqx8N2kNmkradplrHp8f2h4wZCUjVFWRm+8xAOeTSaA9Hs/FvhTUJr+3sNTtJ5NKJW9WOZGNsQCcSgE7DgE/NjpVgeI/DzfZdt/bn7bC1xb/AL1f30KAFnTn5lAZSWGQAR6iv5e/2C/2bvFfhzxd4v8AhB8Nvhfqthp9/wDDbxBo8niPxV4Ul8La9YahdzJ5Om3+opJ9h8QNK7PL9thjYoE3mU+Yc+w/s+6T8XPjDr3wI0Vfhx4u8Mv8Dfgz4j8MeJpfEGjz6dCdav7TSbSK1sZJVAviWsZnElt5kXl7TuywWnYD+hTRPHHgrxLZXGpeHNYstQtrTmeW2uI5Uj4z87KSF4Gee1W28U+GU0211h9RtRaX7RpbTmZPLmab7gRs4Yv/AAgE57V/I5/wTT/Z3+MHg/Qdc8v4b63pbz/s9yeHNVeXwVdeDzHr0Cx7bORJ1D65ezbpP9NVBtERA/1xFedeCv2T/wBu9/hj8EP2Z/GHhPxI3gb4C+J/AnjDSrhrOd5tQl8Q6jpsrW8qeXuA0CKTV4rkHmGPyWk2qMk5UB/ZPceKfDFnp95q13qNrFa6c7R3czzIscDLgsJGJwhAIyGIxkU278W+FdP8P/8ACWX+p2kGlFFk+2yTItvsbo3mE7cHPBzg1/Oz8YfgB4g1v4G/Gax+JHhLxb9juP2hJvEli2meHf7fU2kVpaeTfXGjygNqul+ahSSO3WRi2HTmMsvAa/8ABnWfFn/BPr4Y2fxG+FOq+Dk8N/EDWdUsLPQPBM+uaSkRN8ltf6l4NuZJryK0vVmMgs4j5lnM6OpiToWA/pxXXNFaa0t1vIDJfo0lsokXMyKAS0Yz8wAIJIyACKjtPEXh+/1W50Gxvrea+swpuLeOVWliD/dLoDuXPbIGa/BX9mD4bfG258Rfse69qvwzm+Hg8PaF8RLe/sLOxuk0/RxdmBbFpYp3meyF2iCaK0mmLQ7jAD+7wPnn9jH9nbxF4c+In7PPhvwz8HPEHgr4y+AdZ1G6+Lfjq+0p7a21m0ls7yK9EmsNtTWBqN9Jbz26pJOYggZhHsxSsB/Tanibw3JbRXseoWzQzzm1ikEqlXnDFDGpzgvuUrtHOQRjIrbr+R34Tfsrftp/CjVvhhd6d4c1zVfAvjT493niXX9Lu7WcXfhm80/X9REOoJEY9y6bqGnmF5GYCNHjSUNic5/rioasAUUUUgCiiigAooooAKKKKACiiigAooooAKKKKACiiigAooooAKKKKACiiigAooooAKKKKACiiigAooooAKKKKACiiigAooooAKKKKACiiigAooooAKKKKACiiigAooooAKKKKACiiigAooooAKKKKACiiigAooooAKKKKACiiigAooooAKKKKACiiigAooooAKKKKACiiigAooooAKKKKACiiigAooooAKKKKACiiigAooooAKKKKACiiigAooooAKKKKACiiigAooooAKKKKACiiigAooooAKKKKACiiigDnPB3/Io6V/15wf8AoAro65zwd/yKOlf9ecH/AKAK6Om9wP/S/vV8Lf8AIMl/6/Lz/wBKJK6Ouc8Lf8gyX/r8vP8A0okro6b3AKKKKQBRRRQAUUUUAFFFFABRRRQAUUUUAFFFFABRRRQAUUUUAFFFFABRRRQAUUUUAFFFFABRRRQAUUUUAFFFFABRRRQAUUUUAFFFFABRRRQAUUUUAFFFFABRRRQAUUUUAFFFFABRRRQAUUUUAFFFFABRRRQAUUUUAFFFFABRRRQAUUUUAFFFFABRRRQAUUUUAFFFFABRRRQAUUUUAFFFFABRRRQAUUUUAFFFFABRRRQAUUUUAFFFFABRRRQAUUUUAFFFFABRRRQAUUUUAFFFFABRRRQAUUUUAFFFFABRRRQAUUUUAFFFFABRRRQAUUUUAFFFFABRRRQAUUUUAFFFFABRRRQAUUUUAFFFFAHOeDv+RR0r/rzg/wDQBXR1zng7/kUdK/684P8A0AV0dN7gf//T/vV8Lf8AIMl/6/Lz/wBKJK6Ouc8Lf8gyX/r8vP8A0okro6b3AKKK8j+PXxo8H/s7/BzxF8a/HjlNL8OWb3UqqQHlYYWOJM8b5ZCsaZ43MKmUlFOUtkZV61OjTlVqytGKbbeyS1b+SOo8f/Ef4ffCnw3L4x+JuuWPh7SYCA93qNwltCGPRd8hUbj2HU9q+Gf+Ht3/AATr/tj+w/8AhZ1l52du77LeeTnOP9b5Hl4992K/N/8AZj/Y38ff8FQdaT9tj9vm9upfDN/JI3hfwjbTPBbJZBsBmKlXWJsYG3bLNjzGfaVB/XL/AId4/sL/ANgf8I3/AMKm8L/Z9uzf/ZsP2jGMf6/b52fffnv1rzYV8VWXPSiox6c17vzstvxPi8Nmuf5lBYvLqVKlQesPa87nNdJcsbKCfS7btrY+lPAHxH+H3xW8NxeMfhlrlj4h0mckJd6dcJcwlh1XfGWG4dx1Heu0r+ZH4/fs/D/gnP8AELXP2ov+CcXiZbqw8HT2w8eeBGvPta29pcfMjOpZpBEVP8e6SLJdH2hgv9CXwF+NHg/9oj4OeHfjX4DcvpfiOzS6iViC8THKyRPjjfFIGjfHG5TW2GxTnJ0qitNfNNd0/XfsejkXEE8XWqYDG01DEQV2ovmjKN+XmhLS6Uk1JNJxejPXKKK8v+N/xZ8N/AT4M+Lfjl4xiuJ9I8G6Nfa3ex2iebcPb2ELzyLGhIDOVQhQSBnqQOa7T6g9Qor8Yf2J/wDgq38Uf2toLTxXrXwO1Dw54O17RbzWtG8RWGuWmvWZW0TzBb6iLVFbTbiVQdkcwY7ht+9kDmtO/wCC0On6j/wTi+FP/BQhfh1IsXxP8VweFxoX9qgtZGbULqwM/wBp+y4lANqZNnlJndt3DGS7MLn7h0V/Kv4X/wCClH7Z3wU/bi/a/wDDfgb4Z+JvjxoPgTWtMv3tY9ahsbPw3o8VpK8/2dbjzGkmmILpa28W6Ty2ORivsfxf/wAFuhrmufBjw5+yh8H9W+KmofHHwpe+I9CtIdTttLnhnsGZZbW5NwhgjEZjlEs3nEKyYVXLLl8rC5+8NFfzV6D/AMHD2pX3w00n49eI/wBnvxHo3w7sPESeEvG/iC41W08vw9rTS+W0EcG0T3kcatG0k2yBVL7Pv4B9N1r9vr4afssftc/ts/EzxbY+MNUg+Euk+Dby9s31r7fps51CyXyU03TmgjXT8vIouXM0wc5lwgBUrlYXP6B6K/HX9nj/AIKpeO/iF8KfF/xo+PnwW1XwR4Z8M+D7jxtbavo2rWninTNQ0+2jaZ7dLqzCRx33lru+zvjHJLYwTz37HP8AwVN+J/7ZOkR6zrvwS1Twt4M8TaDf6ro/ibStftNat1S3jLCG/a0RX0y6kXPlpLuYMNv3gQCzC5+1dFfzK/sd/wDBVWx+H37Bn7O/gn9nvwB4v+K/xK+LY8R/8I/4b13xJFeakbfRr+7S5uNQ1u4t4YliUp+7Jt12x/IBiPJ938Yf8F2/C3gX9kvxb8f/ABR8LdY07xj8OfGdn4K8W+Cbq8jF5YXd25USQ3EcUkdzGVBaIqqiUggELtcnKwufvnRX4ufBb/gr3qOo/H/x3+zz+2P8I9V+COseEPBlz8QrZr/UrbVlvPDtmcTTMbQbYplwx8lWl+44LBlwfyq/at/4K6fte/HzwR+z3448D/C3xZ8FvA3xA+LPhoaL4qXWreRdf0R2njntLu3tyk1t9o3JJHFJ5kc8cbMrkKMvlYXP6+Kq3t9Zabave6jMlvDHjdJIwRVzxyTgDmv5Y/gH8R/2w/2lP+Dg/wCImhfFbw74isfCHwkSxt4dNsfGCQ6Rolvc2Ektrd3NhGoXUn1MssmxNrW3mBZS/lAV9d/8Fnb2T4tfG/8AZV/YP1aUf8Iz8WPHrah4itCMpqGmeGFhu3tZM8GOR5ELL3Kqe1FtbCufvUrK6hkOQeQRVS01HT9Q837BPHP5LmKTy2DbHXqrYJwR3B5r+bj9trXv29PhB/wVJ/Z51jxF8WJLX4ceP/HUmiab4L0GN7O1TS7WGNy+oShg11NM7HMbKY41UbD8xA9i+BN1N+zt/wAF/Pi18APDLC28L/GP4eWPxGmskGIo9bs7oadJKijhWuEWWSZuC7gE5wKVhn740V8Dft6/t4aN+xL4e8I6fpPhTUPH/jr4iaymg+FfDGmSJbzX94w3MXnl/dwQxqQXkYELuGRt3MPijxl/wWi134H/ALMfxD+Mf7UnwL8T+APGPw71TTNHufDlxcw3Fjez6uSLaS11gIlrJbja3nSgERfLkEsoJZgfuhRX4wS/8FRf2htA/ZK+KP7Rnj/9nu/0nVvhppttrIsIPEFtqOjaxp8h3XEtjrNpBLDI1pCGlmQw8Y2g9SPU9H/4Kf8AhXx/+018Cf2dPg54ZbxIPjL4Ol8d3mpC+EA0HRDCHtppYfJczGeUNABui2yAZzk7SzA/UyiiikAUUUUAFFFFABRRRQAUUUUAFFFFABRRRQAUUUUAFFFFABRRRQAUUUUAFFFFABRRRQAUUUUAFFFFABRRRQAUUUUAFFFFABRRRQAUUUUAFFFFABRRRQAUUUUAFFFFABRRRQAUUUUAFFFFABRRRQAUUUUAFFFFABRRRQAUUUUAFFFFABRRRQAUUUUAFFFFABRRRQAUUUUAFFFFABRRRQAUUUUAFFFFABRRRQAUUUUAFFFfxCy/tLfHbxP8Y/HOl/tiftVeN/2Zfj9beKLpfCfh7WrdrTwA2kRSoLckfZ2trqJlDKLiWVA3DESAsWaVwP7eqK/IP9oX/gpT8V/hF8ZdB/Y+/Z/+FFz8dPi6PC0PifxDaaRqcGi6ZY2RZYmlF1dq6kyybjDDjcQU5y1ct43/AOCxUOnfCX4QX3w3+D3irW/ix8a59QtNC+HeohdFv4ZtHBN613cXS+XBBEMMsrKd8bbwoCvsLAftLRX4D+NP+C7Gi/Dv9kn4qfHLx58KdS0T4g/BXXtL0Dxb4FvdSiE1tJq0qxwzRX0UUsU0LrvaN1jAk8s4wpVz03xG/wCCw3xb+Fmj+DPBvjb4AajpPxZ+J2qajH4R8F6h4j0+2a40XT7eO4Oo39+wNvYbtzobZ98itG3J4o5WFz90qK/HP4Q/8FZtZ+Nn7OWu/FP4e/BnxHrXjvwZ4uh8H+J/BGlXNvfXen3DuokuY7qM+Tc2qI24SoArYOdqAyV6R/wWU/a7+IX7Ef8AwTz8c/HD4QtHH4u/0PSdGmlQOsF1qVxHb+dtb5S0MbvIgcFC6qGBXIJZgfqJRX82Ol2v7XH/AATK/bw/Z6+HXxB+NniX4weEPju2paF4jtfFMiXAsddt4IpYrnTiqK0EMkrbFgyyom7cWYqUs/8ABxLr/wC3t8J/2bdb/aK+APxYf4eeBPCFlpIbTtEjeHWdT1i+1H7NKZb0FTDaQ28kTRpESZJC4kG0IafKFz+kWiv5jv8Agrx8WfjVa/tjfB34YaR4k+L/AIf8ETeENU1PVv8AhUdvcXGq318zqtvGFjjkiYoI2dvMHyxknI3CvR/hlqXxL/aF/wCCZt5ef8E6P2jvE17Db6xqr+KPFfj2P+0fFumQ2dqXn0yFDHAtvcbxDtZxmOOVpEYkpRygf0VUV/ON+xTY/t8ftyf8EZfgW3wy+LNx4b8T+JNUnfxj4uvp5J9cfQ4NSvY5ksZmjlxdlViWN5CoVU27hmvFv2cv2xfjL+ypcftjp4O+I2vfHf4TfArw/Fc6B4i8W3K31yPEyW7NPpx1CONPtSLLtEpAxFgYAL7nOULn9UVFfxQ/sG/thfFzxD8bvgN8SvFv7SHxGHiL4qahbDW7Hxvoc0Xw/wBbe75l0rQpRGkcF3A7eQkiDynnA2naQjf2vUmrAFFFFIDnPB3/ACKOlf8AXnB/6AK6Ouc8Hf8AIo6V/wBecH/oAro6b3A//9T+9Xwt/wAgyX/r8vP/AEokro65zwt/yDJf+vy8/wDSiSujpvcAr8Sv+C++s6zpf7CkFjphYQal4m0+3uwpwDCsVxKM+o82OP8AHFftrXyJ+3b+zRF+1x+y14q+CULpDqV9Atxpk0nCx31qwlhyeyuy+W56hHbFcmOpSqYepCG7TPn+LMBWxuTYvC4f45wkl5u23z2+Z5x8U/20v2cP2JdW+GHwI8bi603SfENlHZ6fqawEaZZ21rGsUXmzHCgH5VIXcY1IeTapBPzr/wAFAP8Agod4j8GeI7P9kL9jGEeKPi94oCwo1ptmi0mOZdwkc8p52z51DHZGn7yT5cBvnj9lH4ufBD9ub9nR/wDgnL+3BbDRfiP4RUaOLa+IgvJJLIeVBc2kjj/j6iXCyICxcAth43YD73/4J/8A/BN74WfsJ+HLy6sLj/hIvGGqlkvdcmiEb/Zw2UghTLeVGAAXAYl3GWOAirwRqV8QkqLSg+vWPeNu/Z9PuPk6GNzfOIRp5bUhHCVErzWlSjZJTpcuvvt/DLTl97T4Tkf2Nf8Agm/8Pv2X/gr4nj+Kd0PEvjXx3p9zF4s1q4ZpfMiulYzQRs/zGIFiXZvnlb5mx8qr4p/wQI1nWdU/YUnsdTLGDTfE2oW9oGOQIWit5Tj0HmySfjmt/wD4Kh/t4aN4I8F3n7In7Pk3/CS/Ffx0DosVhpxE0lhHd/u5GkK8LMykrGhIZSfMbCqN323+wl+zRF+yP+y14V+CUzpNqVjA1xqc0fKyX10xlmwe6ozeWh6lEXNVRp01iYwoL3YRafq2tPXS7NcsweDjntDDZXFKlhaU4za1XNUlFqDfWXuuUt3d66s+u64P4peHfE/i/wCGuv8AhXwVqUWj6xqOn3NtY309sl5Db3EsZWN5IJPklRWILxnhlyMjOa7yivXP0c/mY/Y9/wCCNf7Svw2/bX8N/tLfFeP4ceAtK8O6NqelavB8Mo76zbxc+oQPAJL6zlSKztVQuJttuhHmrwoGxk8G0j/gil/wVF0r9mzwR+w5P8RPh3dfCv4W+OrbxRoLCHUINYv7ZLya6kS7k8qSKIqbiV44o0fdI2GmCqK/rgoquZisfzdeMf8Agnb/AMFXfhr+0j+0j8Xv2RfGHw4tNF/aAu7aJ7bxF/aMl1p9tFbPALuJoYBGl1H5sgWJhNE4KsxygQ+t/sy/8EhvHX7LX7QX7M3i7wjr2l6j4T+CXgnXPD2rtKZYL691LWXlnkmt4FieIRGeZ2IecMqnHzHmv3qpCQoLMcAUuZjP5n/HX/BGf9p/xP8A8EyPi5+xfp+veFk8U+Pvihd+NtPupLq7GnxafPeW9wsczizMqzhImBVInTcR85GSPrHU/wDgnT+0on7Tf7XPx18G+JPDOmx/HfSfDNl4Z+3Wp1ZYJdFsRbXCalZXNv8AZ2hnIKAI8x8ttxAYba/bAEEZFFHMwP5sf2JP+CQv7VXwI/aE8eftCale/D/4Tv4h8Ez+F7XQPh5BeXmi3epyPvTVL201FUiGwjAtok2lDgFDvMnKfsrf8Eaf2qfh1+2Bov7SXjsfDX4fW/h/QNW0m/i+G8d/Zr4suNRtpII5dRs5I4rO1SNnExW3jYeYvC48sp/TzRT5mFj+YL4Jf8Ebf21v2W/gX+zh42+BXinwb/wu34EweJtMvbbU2vJvDesaX4hvru68ozpBFdI8STjafJA8wnnaoLaHjf8A4Is/tU/Ej9mj4h/8J34u8LX/AMZvi58RtF8b+IriH7VaaFaWujyExWdo3kzXDiONnCNJGpbcAx4Lt/TbRRzMLH44/tN/8E0fGH7TH/BQbVP2g/Emp6db/DrxB8F9U+F+oW6Sy/2utzqdzcO00UfkmHy1inGGMwfePuY5r84p/wDgk1/wVn8YfC74GfsyfE3xz8NLz4efAHxnoWtaVLaLqMGq6pp+kM6o1yWgkijmggYxQxRrtk3kySgoGf8AqropcwH5k/s6/sX/ABR+EX/BSv8AaK/bI8SX+lT+GPi5aeFoNHtbaWZr+BtEsFtZzco0KRIGdSY/LlkyvLbTxXmf/BWT9nP4zeP7/wCCX7VX7O+izeJ/FnwQ8b2msyaJbeWLnUNGvWSDUYYGldEEvlhWG5gNqt3AFfsFRRcD8x/23v2NPif+0/8AtI/s3fGrwHfaZZaX8IvFNxr2sQ6jJNFczW00UaKtsscMitICpyJGjA9e1eWfAH9nX41+Mv8AgrT8Z/26viXosvh7Q9K8M2Xw68ErebWe/tI5FvL29KIxKRfal2wkkM6MxIXv+xdFFwPwu+PX7CX/AAUG/aO+Dnwd+MPjXxf4JsP2k/gv4kvdc027tba7bwve2105Q2k4KrdIslusQkdEyCrKOSJBv6r+yh/wVS+M37OXxL0n9oj4heANQ8YeMr+wk0fwq+iDVPBenadaZ860m+1Qfa5/teQ0kjhmikjUxEAkV+2VFFwPwW/4Jkf8EqPiZ+y/48+MHjb452/hHw94b+Kdjb6afh94Hlvrjw/BGkZjnuGa/COJZlLKUjQIqseegWp/wR2/4JIfGH/gn18R/HHxD/aD8Waf4zu30+28J+C57SSWSbT/AAxa3E1wIZzJBAFklkeNmRPMRSnDkYx++lFHMwsFFFFIAoopGZUUs5wBySaAFooooAKKKKACiiigAooooAKKKKACiiigAooooAKKKKACiiigAooooAKKKKACiiigAooooAKKKKACiiigAooooAKKKKACiiigAooooAKKKKACiiigAooooAKKKKACiiigAooooAKKKKACiiigAooooAKKKKACiiigAooooAKKKKACiiigAooooAKKKKACiiigAooooAKKKKACiiigAooooAKKKKACiiigBCMjHrX8z3x8/wCCcX/BYj4x/CHxT+xD4o+JPw48efCnxJfyPB4r8X2l9c+MNPsZJRIESNVNo80Q+WKQvuxkh0ymz+mKimnYD8DvGn/BNX9sX9mn4+eF/wBpT/gm54n8K3er2nw8034c67pnxBF59mvLfSFjS0vlmsg8v2gCNfMVuCFPJLcSfFL/AIJwft8avpfwE/aZ0H4qaF4s/aP+C8msNd6j4ismtdB1m215DHPaMljEssSQRERQSLGGbLOwViNv720UXCx/Lv8AGT/gij+178eP2S/2gU+I/i3wlc/HP9oTxD4f1bUpLY3dr4d06z8PyKbe1gkME10+yMuN7RZb5A3ILt9sf8FTP+CYPiv9sX4u/DT9pz4S2Xg7xB4o+Hcd9Y3Hhv4gWstz4f1jT75T8kphSSSOWB8vCwRhvbJxtwf2woouwsfiR+zr+xV+3X+y1+zJrenfA1PhD4R+J3ifxVa6ldWmiaHLYeG7TRY2Cvaq0MaXN1OsZbZPMgODs4I8w/cX/BRD9jXw/wDt/fsd+NP2VNf1FtHPiS2iaz1BU8z7Le2kqXFvIy/xIJY1EiggtGWAKkgj7VoouB+DfwT/AGCv+Ch3xd/ax+Fv7RX/AAUo8YeDtSsvgbaX8fhmw8GR3YbVNRvolga/1E3aKqyeWobZCAokAKhFLBun/bL/AGJP2/P25v8Aglp4u/ZR+NfiDwQ3xU1/V4J4L/T/ALZaaItjaajFcwq5MM04k8iMg4iYbsAk8uf29oouB+Zf7XXwj/4KUD4jeEfi1+wX488MwRaTpr6ZrPg7xrDcf2JfkklLtJ7NGuknTO3aCEYBc9CG5P8AYT/4J9/Ef9l79mb4qeEvif4j0/xD8SPjLruveK/EF5YxPb6VDqetx7DFbKwMggQjduZN5LHjAUD9YKKLgfzo3X/BN7/gpf8ADb/gjd4D/wCCeH7Mfjrwl4Z8c2LXtn4m1tru+jt30u7ubq4aOxuI7Jpkkfzo0dmgQhd4VhwT6b+yJ+wB+2Vof7K/ij/gn9+1Xo/wn8NfB7VfCN9oNiPhu2rvqy317hGubh9SXy5GKtJK8hy7Tbc/Lmv3hoouB/NT8Pv+CVv/AAUV8c2/wJ/Zw/az8a+A5vg1+zvr+la5o1x4btr1PEGsnQEaPT47tZwLeBRGdkphYkgk5dgHr+laiihu4BRRRSA5zwd/yKOlf9ecH/oAro65zwd/yKOlf9ecH/oAro6b3A//1f71fC3/ACDJf+vy8/8ASiSujrnPC3/IMl/6/Lz/ANKJK6Om9wCiiikB8Ffte/8ABN79mP8AbPkTXfiTp02m+JIEWOHXdJcW98FT7quSrpKo7eYjFRwpXNfCP/Dmr41/Z/8AhG/+GnvG3/CN42f2bmfb5fTbn7b5fTj/AFWPbtX7x0Vx1cvw9SXPKGvldX9bWufM4/g7J8ZWliK+HXPLdxcoOX+Lkceb53Pgr9kL/gm9+zH+xhI+u/DbTptS8STo0c2u6s4uL4q/3lQhUSJT38tFLDhi2K+9aKK6KVKFOPJTVl5Hs4DLsLgaKw+DpqEF0irL/h+73YV4v+0gtg/7PnjiHU/FDeCbeXQdRjk8Qo21tJV4HX7YGyMeRnzM5GNucjrXtFV7u0tb+1lsb6JJoJkaOSORQyOjDBVgeCCOCD1rQ7T8DrfxXb/sXaH4/tfDHhLRfBHjax+H83iS31HwpqT6j4e1WwsLmGNr65tJ442gux5wYPKJjJG0mJ5djY7/APbJ/aD8UeLPi/ffDPwX4t0vTbHwz4q+Gn2K/dEuIrG71y5v1maXa6iQmNIGjjdwuSuflY5/U74ffs1fs6fCXS9W0P4WeAvDvhuy19Smp2+l6XbWkV4pBUrOsUaiRcMww4IwSOhrL039k79ljRvC8/gjR/hp4VtdFuhEJrCHRrRLWQQGQx74hEEbYZpSuQdpkfH3mzfMhWZ+e8vx9/ac1D4maZ+zRonjezkvofiTP4RufFUWmQSPcWI8MT64yNb5MC3kEqrEzIBHwpaPl0rzbRv2iv2nL/4SW+t/GPXtJ8T2HjPw94+06fTF0iO3top/DAnihn5eRpBdJA5uYpCY8yAIEVcN+wPhH4IfBjwBoui+HPAvhHRtG0/w3PJdaTbWVhBBFYXE0ckUktuqIBFI8csiO6AMyyOCSGObp+EXwoOnwaQfDGkm0tReLDD9ih8uMaju+1hV2YX7RvbzsD95uO7OTSugsfhb4mufjzb/AAq/af8AEGi/EnUdPs9N+EGjanomj2Ftb28elu2k3MzfZWRBJGG8ho1ZNrLvJDb0jKenfGf9qH9r34f+ILz4X/Cq7vNfm8CeBdK8SzavLBocVtqtxfNdfvNRkvtQ08W9iBbBGks4yylnZmGEV/2BPwe+Eh8RJ4v/AOEX0j+1Y9LOhpefYoftC6WxDGzEmzd9nJAPk52ZHSuG1P8AZP8A2W9a0nw/oOsfDfwvd2PhI50S3m0i1eLTfm3/AOioYysPzfN+7C/MAetPmQWPyi/av+NXxl+Jnw++I2s3Xi3TvC+keD/GPhbw43hV7eKae5F5JpV00kl0JPME0jXTG38r90Y4/mD7mKfXf7dlx4r/AOFxfs96P4M8SQ+Er7VPGWoWa6nPClwIhJoeo5VI5CI2lkx5cW/cokZSVfG0/Xvi79nT9n3x/wCNYPiV478C+H9a8RWsSww6pf6Zb3N5HGh3KqzSRtIAp5ADcHpW/wDEn4QfCf4y6PH4e+LvhjSfFNhEzvHb6vZw3sSM6NGzKsysFJRmUkAHaSOhNK4WPya1T9vj4t/BbwxF8RfiZe2fijw/a33jDwalzYWqwrqniLR2abSWj2s4RrtILmzkjD7DdqoTG4LX2D+0Z8a/ij+yz+whffEbxYzeJviPZaLZ6dAmn2wLaj4m1Hy7S3SC3jHKyXsq4RASE9cV6V46/ZW8B+NB4D8MWJTQvBngPUYNWt/DWmWltBY3F1YsJLLdiPdHHbSjzVSExhnA3EqCp+gtd8L+GfFH2MeJtOtdR/s+6jvbX7VCk3kXMOfLmj3g7JEydrrhhng0XQH4J/s9/Hrxp+yl8APiD+zL4dtdZ0W+8E6z4YTw/qnja2ZJE0fxle29pPqEyPKWmjsr576RvnCbVjUlRnHbp8VPil8Hviv8cdEuPiB/wkHil9S8D6Bpt/YaPb3V/JNfRzv9l+y/aLezS7aNn2SyNHAi7GdGwQ37P6/8OPh54ru7nUPFOg6dqU95YSaVcSXVrFM8thMQ0ls5dSWgdgC0ZyhPJFeX2P7JX7K+meAr/wCFmmfDXwtbeGdUWJbzSotItUs7gQMzx+bCsYR9jszpuB2sSRgnNPmQrH5nfB/9pX9rX4433hX4Sw+JV8KatJ4j8X6Hqmo3Onafd35i0OKCW33x2089ilyrTCObyXeI7WAAYjb6x+xb+0V+0b8QPFPwwk+NGuWGs23xU8A6l4qNrZWAso9Mu9LuNNh2Qtvd5I5o7/L+YxIdMqQrbR+hXgv4HfBT4bQWNt8O/B+iaDHpbTPZrp2nwWot2uERJTEI0XYZERFcrjcqqDkAVuaH8Nfhz4Yk0qXw14f03Tm0Kyl07TTbWkURs7OcxtJBAUUeVE7QxF40wrGNCR8q4V0Ox+TnxY8HfCb4q/H7443n7RWjWvjDV/BUej/8IvouqaoumxWWg3FlC82oWkkrpHbyG8a9El2oEg+zrGHG1a5/4X/tNfHi98L2XivwZqmryeFfBvwY0nx2ujazBbXuv63cynUliiub1VRA08VnGZGjjVmchgy/OG/V/wCJfwC+BXxnurC++MPgvQvFc+lP5llJrGnW981s2c5iMyOUOeflxzXeQeFvDFr4gm8W22nWseq3FrFYy3qwoLh7WBneKFpANxjjaSRkQnapdiACxycwWPwqtP27P2z/AAF8I/EnxG8VaRLqsNx4P07XdNuL9NBgMF7f31tZmW2t7HWZ2m04R3LXAe6khCeQVe4PmDZ6Tpv7RX7a7TH4Za3dP4fvrrxl4d0m01XW7bRptSWx1e3uZLmOay0q/vIUaMwK9tLIYt6yAFHCMz/qH4K/Zx/Z7+G0Wt2/w78CeHtBj8TBhq66fpltbLfhwwYXAjjUSg7myHyDuPqaf4H/AGdf2fvhjocHhn4b+BvD+gaba3w1SG107Tbe1hjvlBUXCpHGqrMFJUSAbgOAcUXQWPLP2VPiH8T/ABT4L8YaF8Sr2LxFrngrxLqehLfQwJZtfxWwSWB3jU+WkpSVUcrtQsu4AA4o/aHm1Lxv+xxrx+IOqj4UX+t6IkV5dXNyJU0i5ugqmOWe3kQMgkbynkikTKklHU4YfTuj+G/D3h57yTw/YW1i2o3LXl2beJYjPcOArSybQN8jBVBdssQBzxVjWdG0fxFpNzoHiC0hvrC9ieC4triNZYZopBtZHRgVZWBIIIII60r6jPw00T4h2X7IOu694P8ADnhHSfhl4gj1XwA+sp4f1L+0fC8+jazryadNdpFLFbmzupIpJllZ4VZl2MJJdm5db9oL44eO/ih8b9G8M+F/GNhosPhn49WXhjSNU8mOeO2iuPBU008RUsElnN1czpH5hYLMUVlYLsP6p+FP2Xv2avAngjVfhn4J+HvhrSPDmvZ/tPSrPSraCyvMjB8+FIxHLxx86njjpUEv7Kn7L83hBvh9L8N/C7aC84ujpx0i0+yGcW32IS+V5WzzBa/6OHxu8n93nZxVcy3FY/Pbw58d/wBqP4k+PdC+Amg+ObGxuofEnizQb7xNbaVDOb+DRbe2ngkjgd2hjmjkuDb3GMoXik2omVCfNPjD9qX9pDWf2Qr/AMUfGTUdF8Tw/ET4JeKvGa6a2kxpZWN7oosUEQR2kM8EyX2ZFmLfOny4Vto/djwv8JPhT4IsNF0rwZ4Z0rSbXw3HLDpMVnZwwJYRz/61bdUUCJZMfOE2hu+aoXPwP+C15oUHha88IaJLplrplzokNo+nwNBHpl55f2i0WMptW3m8qPzIQPLfYu4HaMLmXYLH4t/tAr+0BaeCv2xbnwx8WNW0U6DrukDSY0htmTTbdtK0q6YQ5QNHGVlaE7WUHY0n+taRz6F8cP2sP2wvBnxe8YeBfhfa3msWvwvg8PpLcTR6DbWOsvfwxzTTX1xe6lZTW0c28wQta2+xJkY5l/1Q/WzU/g78I9a17VvFOs+FtIu9T1/T/wCydTu5rKGSe9sBn/Rp3ZC0sPJ/duSnPSuSvf2Xv2atTvvDWqal8PfDVxc+DYYrbQJpdKtnk0uG3x5UdoxjJgSPAKLGVCkAijmQWPyg/aG+LXxd+JFxpvijU/Glhpmiaf8AHjwz4Rj8KC0jE7Radr1oFkNxv843M4j+1bceX9kfHl5/eV9oftt/Gj4leBdb8L/Dr4OavqFnr+r2eraq9ppWm2F3dS2emCBZJWuNVvLSxtoIXuI/O3lpJAwEe3axr6b1r9nD9nnxJ8RB8XfEXgPw9f8AitTbsNZudMtpdQDWbpLARcNGZcwyRo8Z3ZRkUrgqK2PiZ8Efgz8aYdPt/jF4S0bxXHpM/wBqsl1ixhvRbTcfvIhMj7G4HK4NHMFj4zm/a0+Id3/wTR8M/tawR2Fj4m8ReHfD95NLLGzafY3OstbQzXTxl1Y29qZ2nZTID5aEFu9fIM/xU+JvwU/aB+Pdtq/xEXxB4ii0r4a6LpmoWmjw3N2LjVb3VlS2Nmk9va/apPOxFI7xRKjxNKGCtv8A2usPAXgbSvBMfw00zRbC28OQ2Y06PSoraNLFLMJ5YgEAXyxFs+Xywu3bxjFeUaP+yT+yt4e8G6n8O/D/AMNPC1joGtwxW+o6bb6PaRWt3FBJJLEk0SxBJFjklkdAwIVnZhgsTQmgsflz4I/4KAfGT4beDrr4s/tEzSReEvA3jPXPB3iVryCwS/RRpkGoafcXB0+a4tVmS4JsXS3lKM86ZUOCB9y+JPiv8W/hN+wnD8U/jRqsWk+Om0mze8ni077cltqupyRxx28dqkluJTHNOlum6RFJAeQ43V0/jf8AYs+DfiXwVpXwl8IafZeDvBNvrFnrOq6DoWn2lpa6rLp0kEtuk+2L5UV7aEPs2u8aCMsF4r6d8V+E/C3jvw3e+DfG+mWus6RqULW93Y30KXFtcROMMkkcgZHUjqrAg0NoNT8V/Bn7Y/7TGoXV78EPGWrN4Y1Q/ESx8Jt4j1600z7dptleaJJqo+0Q6fc3Gn/aZZofs1vl8ATx+ZH5g2t0Xwp/ah/aH+KHiq0+BcfxE0lZ7vxl4q0dfF9pp8DrLa+HLe0aK1hhZ2g+1zNcPJKx3qFgmCKo27Pu7xj+xr8Ip/hHdfCH4M6To/w+068uYLi5g0zQ9OlsrwQDAiu7SaBop42GM8LICAVcY5o/DH9h74G+D/gxc/BT4i6Tp/j7TdR1WbW72PXNNs5LWS9lwFMdosQt4UhjVIoURPkjUDJOSXdCszrf2P8A4teKPjb8AdK8e+M3tbjUvtmqabNeWKGO1vv7KvriyW8gQs+2K6WATou5gFkABIwT9M1m6No2j+HNItfD/h60hsLCxiSC2treNYoYYowFRERQFVVAACgAAcCtKoZQUUUUAFFFFABRRRQAUUUUAFFFFABRRRQAUUUUAFFFFABRRRQAUUUUAFFFFABRRRQAUUUUAFFFFABRRRQAUUUUAFFFFABRRRQAUUUUAFFFFABRRRQAUUUUAFFFFABRRRQAUUUUAFFFFABRRRQAUUUUAFFFFABRRRQAUUUUAFFFFABRRRQAUUUUAFFFFABRRRQAUUUUAFFFFABRRRQAUUUUAFFFFABRRRQAUUUUAFFFFABRRRQBzng7/kUdK/684P8A0AV0dc54O/5FHSv+vOD/ANAFdHTe4H//1v71fC3/ACDJf+vy8/8ASiSujrnPC3/IMl/6/Lz/ANKJK6Om9wCiiikAUUUUAFFFFABRRRQAUUUUAFFFFABRRRQAUUUUAFFFFABRRRQAUUUUAFFFFABRRRQAUUUUAFFFFABRRRQAUUUUAFFFFABRRRQAUUUUAFFFFABRRRQAUUUUAFFFFABRRRQAUUUUAFFFFABRRRQAUUUUAFFFFABRRRQAUUUUAFFFFABRRRQAUUUUAFFFFABRRRQAUUUUAFFFFABRRRQAUUUUAFFFFABRRRQAUUUUAFFFFABRRRQAUUUUAFFFFABRRRQAUUUUAFFFFABRRRQAUUUUAFFFFABRRRQAUUUUAFFFFABRRRQAUUUUAFFFFABRRRQAUUUUAFFFFABRRRQAUUUUAFFFFABRRRQBzng7/kUdK/684P8A0AV0dc54O/5FHSv+vOD/ANAFdHTe4H//1/71fC3/ACDJf+vy8/8ASiSujrnPC3/IMl/6/Lz/ANKJK6Om9wCiiub8TeIRoFpGLeI3V7dP5Nrbg4MshBOM87VUAszdlBPPApAb800NtE09w6xogyzMcAD3Jripvij8M7eQxXHiLTEYdQ13ECPw3VBa+ArXUJF1Pxyy6veZ3BJBm1hPpFEcqMf3m3Oeue1d5DBBbRiG3RY0XoqjAH4CnoI4X/ha/wALP+hl0r/wMh/+Lo/4Wv8ACz/oZdK/8DIf/i67+ijQepwH/C1/hZ/0Mulf+BkP/wAXR/wtf4Wf9DLpX/gZD/8AF139FGganAf8LX+Fn/Qy6V/4GQ//ABdH/C1/hZ/0Mulf+BkP/wAXXf0UaBqcB/wtf4Wf9DLpX/gZD/8AF0f8LX+Fn/Qy6V/4GQ//ABdd/RRoGpwH/C1/hZ/0Mulf+BkP/wAXR/wtf4Wf9DLpX/gZD/8AF139FGganAf8LX+Fn/Qy6V/4GQ//ABdH/C1/hZ/0Mulf+BkP/wAXXf0UaBqcB/wtf4Wf9DLpX/gZD/8AF0f8LX+Fn/Qy6V/4GQ//ABdd/RRoGpwH/C1/hZ/0Mulf+BkP/wAXR/wtf4Wf9DLpX/gZD/8AF139FGganAf8LX+Fn/Qy6V/4GQ//ABdH/C1/hZ/0Mulf+BkP/wAXXf0UaBqcB/wtf4Wf9DLpX/gZD/8AF0f8LX+Fn/Qy6V/4GQ//ABdd/RRoGpwH/C1/hZ/0Mulf+BkP/wAXR/wtf4Wf9DLpX/gZD/8AF139FGganAf8LX+Fn/Qy6V/4GQ//ABdH/C1/hZ/0Mulf+BkP/wAXXf0UaBqcB/wtf4Wf9DLpX/gZD/8AF0f8LX+Fn/Qy6V/4GQ//ABdd/RRoGpwH/C1/hZ/0Mulf+BkP/wAXR/wtf4Wf9DLpX/gZD/8AF139FGganAf8LX+Fn/Qy6V/4GQ//ABdH/C1/hZ/0Mulf+BkP/wAXXf0UaBqcB/wtf4Wf9DLpX/gZD/8AF0f8LX+Fn/Qy6V/4GQ//ABdd/RRoGpwH/C1/hb/0Mulf+BkP/wAXXT6R4h0DX4zNoV9b3qDq1vKsgH4qTWxXK6z4J8L67ILm9tEW5X7lzD+6uEPqsiYcfn9aNA1Oqorz/TNT1bw5q0PhjxNN9phucrY3zAK0jKCTFKBhfM2glWAAcA8Ajn0ChoAooopAFFFFABRRRQAUUUUAFFFFABRRRQAUUUUAFFFFABRRRQAUUUUAFFFFABRRRQAUUUUAFFFFABRRRQAUUUUAFFFFABRRRQAUUUUAFFFFABRRRQAUUUUAFFFFABRRRQAUUUUAFFFFABRRRQAUUUUAFFFFABRRRQAUUUUAFFFFABRRRQAUUUUAFFFFABRRRQAUUUUAFFFFABRRRQAUUUUAFFFFABRRRQAUUUUAFFFFABRRRQAUUUUAFFFFAHOeDv8AkUdK/wCvOD/0AV0dc54O/wCRR0r/AK84P/QBXR03uB//0P71fC3/ACDJf+vy8/8ASiSujrnPC3/IMl/6/Lz/ANKJK6Om9wCvPdLX+2PiFqepT/MukRRWMA/uyTKJpT9WVoh9B716FXn/AIbb7H428R6ZLw1zLbX6Z7o8KQcfRoDn0yPWhdQPQKKK8o+OfwY8D/tEfCPX/gn8SEuG0TxHataXJs53tbhASGV4pYyGR0YBlYdwMgjIKA8H/wCGivG3/Dw7/hkv7LY/8I5/wrr/AIS77Rsk+2/bv7T+x7N/meX5Pl87fL3bud2OK+z6/lrH7MX/AAWMX9vP/hWA1eD+xP8AhAf+EQ/4XNgfbP7A/tH7Vv8As/3f7c2/6Pn7n/Lx15r+j34GfBjwR+zv8I9B+Cnw4W4XRfDtqtrbG8uHurhxkszyyyEs8juWdmJ5YnAAwKbA9Xr8hF/4K1/C/wAA/tM/tGfCr9pBLTwV4K+Ap8Lo3iJnnuWu38SQCRRJBFE7JtkKxrt3Zzk4r7R/bN179r/wt8CL/wASfsOaJoXibx7Y3FvLDpHiF3itr21DYnijlWaBY5ypzG8j+WCMMOa/m3+Mf/BLv9v39sr4Hftg/GXx54LsPh/49+O934Qm8O+DZtYt7944fChTeJ72HFuHuY1/dDcoWQEOUUhqat1Ez+jr4n/t3/smfBjxt4k+HPxN8ZW+la14Q8Nf8Jfq9q8Fw7WuieckH2omOJlZfNdV2qWfnO3HNfM7/wDBbj/glImmavq7fG/w/wCTofkfasGYuTcfcEKCLfOR/GIVcx879uDX4n/GD9i3/gqn+1z8XPjl8fvix8F7LwZe+PvgS3gnR9Ks/Een6hnVk1G0mWCWUywhHkWKWYNgwIhRDMZMivpLwz/wTK+O9j+1V4I8dah8OrFfDGkfsuQ/D28kM2nlI/FY82N7XyhKWZvKfYbgKYSp2+ZjinZAfrH8W/8Agq9/wTv+BWn6Dq3xU+Kuk6Va+KdDXxHo8xWeaO+0x22LLA0MThyWBAjUmQ4Py8Gvaov2zP2bNS/ZY1H9tDwr4qtNa+HGm6Xd6vJrFhvuIvs9kG875I1aXehRlaPZvVgVK5GK/j6+Enwi/bB/Y2/a9/ZF+Hn/AAqaz8c/FDwJ8I/EJuvCF5q9nauRNqWojMF/m4tFlSKdWHzFSm5MhjX9En/BH39i34z/ALJf7CF/8JPjvb2eieKPFmta1rs+kWEq3Fpo41QgR2kbxkoVjVQxCMyhmIDHGaTSQIs/sm/8Fqv2L/2kv2Nrv9svxnrtv8PNI0W9bTdbs9XlZpNPu3kcQQ71jUTyTxKsyLAHIVsHlWx95fs0/tZfs4/ti/D9vij+zL4usPGGhxTm2muLJmDQzhQ5jlikVZYn2srbXRTgg4wa/l0+Gf8AwTd/4KM+Hv8AgnX8Fvgxq3wtspvGP7MHxOXxVZ6Hd67ZPY+NNPa8ubxjBKrMlq6mcIgutvy7mI3Hy6/XT/glf+y/+0h8O/jb+0F+2B+0j4Wtfh1f/G/XNMvbPwfa30OonToNMhljM089v+4ae5aYtJsJ5XJ5OANIEfXFv/wUp/Yhuvg3pfx/t/Hts3hPWfES+ErK8Frd+ZNrbFgLMW/k+eJso3ymMcDPSq8v/BTr9gOD9oz/AIZLm+Kmhr8QjdjT/wCyTK2fthO37N523yPP3fJ5PmeZv+Xbu4r+a/8AZ/8A2etP+K3/AAXi8Tfs3/C7WNO8R/BP4b+Nb741XkenTLdQWvia8toLYWsjoWjimttQDMsP3lSNhgEEL0N7/wAEsP8AgoXJ4Dvf+CecXw60hvCN58YP+Fhj4uf2zaiVdPMof/jyx9s/tAJ8m/bs52Z2/vKfKguf0j67/wAFFf2L/DPw3+IXxd1zx1bW/hz4Va8/hnxXem2uSum6sk6WzW7qIS7sJpETdGrpk53Yyazpf+Cln7DUH7QyfsoTfEOxX4iyX1ppqaEYbj7S1zfQfaIVX91tKtFhmcNsTKh2VmUH+az9rT/gnR/wVSf4d/tb/sl/BX4UaZ4u8IfG/wCIP/CwNN8Tf8JDZWUwS41CC7ayjtLhkJlTYu55nhjVY5NpkZowf2Q/YK/Yz+L/AMIP+Cjf7Tv7R3xc8KwWWi+Ok8IReFdVea1uJZ00+xkivlRYpHmgCyiIMJFj3lVK7guQrID6C1T/AIKAweG/+ClGufsPeLtNsdK8N6B8Mn+Il34lubvyhCsV6lrJHIjKI0iRGMjSl+McjHNeifs8f8FLP2D/ANq6+8Q6Z8APifoviC48KW0l9qqLI9sbe0iOJLg/aEi3QISN8ybo1yMsMivyb/b+/wCCaH7UX7WP7dfxf8ZeB7OPSvCfjX4CP4K03XpruBYTry6tBerayQq7XSxyRxEPL5JjCkjJbCn5Y/ZS/wCCcP7f2g3WpeONV8A6v4Y8a+DPhPqHgzw9qnjXxlYeJrS81GW3aGK2t7GC3aKPT92JAt021CQpRxuosrDP38/Z+/4KgfsB/tTeKtZ8EfAf4o6Pr2qaBaS397CDJbbbS3OJZ0a4SNZYY/45IyyL3Ir40m/4Lifsx/Er9r34M/syfslazpHxGtviLqus6Zrl9bTzQy6OdNt454XWJ4l85Lgs6q4IjPlnazYOPxa+Ef8AwSf/AOClfxc+K+m6t8bPDOueGIr/AOEHiXwHqWr+IvEulanDa6rqVjPDGLWz00qLXTWmm/dwQpKypuLtnDH279nf9hr/AIKRa18dv2OLf4rfAvTvh74c/Z0tNX0DVtf03X9Nu7i+juLNYUvvJidZFR3Teir5snnSSs6oCCzshH9BXgv/AIKbfsD/ABF/aGl/ZU8E/FLRNS8fRTzWv9lxSP8AvLi3z5kMcxUQSyptbdHHIzjB44r4h/am/wCC8X7G/wAN/wBnPx/8Tf2XfEumfEzxl4G0+HU5fDym6tP9GOq2mlTNNK0GIjHJdqQpG5+CoKHcPyR/Y3/4I/fto/CP4hfCf4DfF/wTreo+HPhV47HimHxanja1Tw15dtctcRXNnoywPerdSg7HjkIVsfOyhsr7Tpn/AAS0/a10v/ghB8Y/2R7P4fQQ/Fvxr4rl1O205L3TxLeW39s2Vwjvdi4+zjFtAWCyTBgFC43YFFkB+7/7LX/BSn9iz9r641Pw98E/iJo2t674dsVvdZsreZl+yxgL5sivKqLLDGzBWmiLRgkZYZFT/s+f8FMf2C/2qviHqXwp/Z9+KGi+JvEGlRSTz2dvI6M0MON8kLSKizomQWeFnUDqa/CzR/8AgnB+3f8AtZ/HLXfFXxl+Hmi/AfTdE+B+o/CbT59O1a31NNYvb2CSCO4C2ih47GMSZEUqrIiqqjcSdmD8B/2A/wDgpN4z8f8A7PsHjT4W6B8JR+y74I8Q6FZa62rWmqR+KNS1DTzZWp+z2wZ47cyBZ5xOPm82cfeOCrID9zvhL/wVe/4J1/Hb4g6r8LfhF8WNG13XdHtbq9ntrfzcSW9kjSTyW8jRiO5WNEZz9naT5VLDgE1zXhz/AILG/wDBMvxZ4F8RfEvQPi/o8+h+FLazutVuylwi2637vHbphoQzyyNG4EKBpRjJQAg1/Of8Dv8Agmt/wVM1r9oj4M/FH41eA9ch/wCEM0fxlp2uXOpeJtEuNPiutW025hg/szTbEwx2drNNMq4QSOzkmXYiKzfTWo/8Ep/2sdN/4I3/ALPXwi8K+A9Mm+Knwc8bWnjfWPB15eWaRa0bW7vWa2ku0d7VnkiuEO55Svl7kJ3YFOyA/WL9h/8A4Kn/AA+/bv8A2tvix8Evgsmn6x4J8A6boOoaV4msrh5P7T/taASSq8LxoYWgkDRMpJYMpDBSCK7bxF/wWL/4Jl+EPidd/BrxX8YNG03xNYa7deG7uxuluImt9Ssn8qaOV2iCRosmV852ELMCFc4NfHv/AATL/Z0/bG8O/wDBQ39on9sT9pn4XWvwu0z4rWPh19M0+z1ay1VElsYPKmR3tWDecMB5mMSo0rNsZx8x/CfR/gP+2J+1Xpn7cX7KH7Nnwm0XxXpvxH+O2s2l94wv9Vt7J9Ak07VPtJaa3lXzp49n+paBmaNmkJRsqrFkB/XL+0X/AMFKv2Ev2SviBp3ws/aL+Juj+FvEOqxpNBZXLu8ixSZCSS+UjiCNtp2vKUU44NQfH3/gpn+wX+y94u0nwJ8dfifo+g6rrdpFqFpAzSXGbOYkR3EjQJIkULkHZJKVRuxNfhV+0l/wTz/b3+FPxc/aF074E/DXTfjPoX7SHgTRPCKa9f6xaadc+HLjTdOGnSSzx3WHmQ4+1J5PO+OIfeWvNP2o/wDglP8Atz/Day8CWH7LfhHUtb8W6F8MdG8EzeL/AAx4qs9Mt7y5sESNrbWdL1WMxXmnIULIIiHZBGrglRhWQH63ftRf8FbPA/7JXxR+Jc/j3VPDmq+DPBXgTTfFFhYaa97Jr97e6jcrBAjMIHsha3DSxJFIshKswZ/k3FLfwT/4KweC/wBp/wAffs6S/BXVPDlv4d+MVhrs2q6bqrXw1yC+0izWeS2siluLVzayl0uXmdEZVzEScZ+DfEn/AATY/bl8e/Fr4xan420rS2n8b/s22fgCLWbKe1ttMufFUcMSzQxW0bLLBAZFba5t0iVMbQOFrkfBX7BP7d3xe1r9jOD4lfDqf4fW/wAIfAfi/wACeJ7z+2NOvXsDc6D/AGVY3qCCctJ9okAdUiWQxH75x8xdkB+4vwc/4KcfsC/tA/Gm5/Z4+DPxU0PxB4ytjKv9nW0rZmMAJkFvIyrFcFApY+S74UE9ATXAfCr/AILD/wDBM742+P8Aw38Lfhh8X9F1TxB4ucxaTZBZ4XnlDtGIiZYkWOV3UiOOQq8mQUDBlJ/E79lP/gnP/wAFA/8AhKv2WvgH8XfhdovgLwx+zBr2o6xd+OLHWbW7PiBJpGkSK0tYR9piFw2PtHnhd/3jtICHkfg7/wAEmf2xvBf/AATk/Zb+Et78Obez+Ivw8+N9j4v8Sxpf6b59posdxcvLcG5S4Mcv7v7PmOKR5SFUBCVwCyA/sKoooqBnK+NtGk13wvd2VsdtyqedbP3S4i+eNh9HA/lWl4e1ePX9AsddhGEvbeK4UegkUMP50niLV4dA0C91y4+5aQSSn32KTj6noBVHwTpM2g+DNI0O5/1llZW8Df70aKp/lT6AdPRRRSAKKKKACiiigAooooAKKKKACiiigAooooAKKKKACiiigAooooAKKKKACiiigAooooAKKKKACiiigAooooAKKKKACiiigAooooAKKKKACiiigAooooAKKKKACiiigAooooAKKKKACiiigAooooAKKKKACiiigAooooAKKKKACiiigAooooAKKKKACiiigAooooAKKKKACiiigAooooAKKKKACiiigAooooAKKKKACiiigAooooAKKKKAOc8Hf8ijpX/XnB/6AK6Ouc8Hf8ijpX/XnB/6AK6Om9wP/9H+9Xwt/wAgyX/r8vP/AEokro65zwt/yDJf+vy8/wDSiSujpvcArivFekaj9qtvFXh5PM1DTw6mHO0XED43xEngHIDITwGHPBNdrRQgMPQfEWleJLQ3WmSZMZ2SxONssTjqkiHlWHofqOK3K5XWvBmga5dDUp43gvVG0XVtI0E4HoXQgsP9lsj2rK/4QvXV+WDxTqqL2G2zbH4vbMT+JNGgjv6K4D/hDfEX/Q2ar/37sf8A5Eo/4Q3xF/0Nmq/9+7H/AORKLeYzv6K4D/hDfEX/AENmq/8Afux/+RKP+EN8Rf8AQ2ar/wB+7H/5Eot5gd/RXAf8Ib4i/wChs1X/AL92P/yJR/whviL/AKGzVf8Av3Y//IlFvMC3d/Df4d6h47tPijf6Dp0/iawtnsrXV5LWJr+G2kJLwx3BXzVjYkkoGCknkV2lcB/whviL/obNV/792P8A8iUf8Ib4i/6GzVf+/dj/APIlFvMDv6K4D/hDfEX/AENmq/8Afux/+RKP+EN8Rf8AQ2ar/wB+7H/5Eot5gHgX4T/Cz4XvqMnw08NaV4dbWLhru/OmWcNobq4YkmWbylXzHJJJZsk5PPNd/XAf8Ib4i/6GzVf+/dj/APIlH/CG+Iv+hs1X/v3Y/wDyJRbzA7+iuA/4Q3xF/wBDZqv/AH7sf/kSj/hDfEX/AENmq/8Afux/+RKLeYHf0VwH/CG+Iv8AobNV/wC/dj/8iUf8Ib4i/wChs1X/AL92P/yJRbzA7+iuA/4Q3xF/0Nmq/wDfux/+RKP+EN8Rf9DZqv8A37sf/kSi3mB39FcB/wAIb4i/6GzVf+/dj/8AIlH/AAhviL/obNV/792P/wAiUW8wO/orgP8AhDfEX/Q2ar/37sf/AJEo/wCEN8Rf9DZqv/fux/8AkSi3mB39FcB/whviL/obNV/792P/AMiUf8Ib4i/6GzVf+/dj/wDIlFvMDv64rwh8Nvh18PbjVrvwDoGm6HLr99Lqepvp9rFbNe3s3MlxOY1UyzOfvSPlm7mqv/CG+Iv+hs1X/v3Y/wDyJR/whviL/obNV/792P8A8iUW8wO/orgP+EN8Rf8AQ2ar/wB+7H/5Eo/4Q3xF/wBDZqv/AH7sf/kSi3mB39FcB/whviL/AKGzVf8Av3Y//IlH/CG+Iv8AobNV/wC/dj/8iUW8wO/orgP+EN8Rf9DZqv8A37sf/kSj/hDfEX/Q2ar/AN+7H/5Eot5gd/TXdIkMkhCqoySeAAK4L/hDfEX/AENmq/8Afux/+RKB8OtLu2DeJbu81kA58u8kHkkj1ijWOJv+BIaLAZ8lwPiLqEMFhk6DZyrNJP8Aw3ksZyqJ/eiVgGZujEBRkbq9PpqIkSCOMBVUYAHAAFOobAKKKKQBRRRQAUUUUAFFFFABRRRQAUUUUAFFFFABRRRQAUUUUAFFFFABRRRQAUUUUAFFFFABRRRQAUUUUAFFFFABRRRQAUUUUAFFFFABRRRQAUUUUAFFFFABRRRQAUUUUAFFFFABRRRQAUUUUAFFFFABRRRQAUUUUAFFFFABRRRQAUUUUAFFFFABRRRQAUUUUAFFFFABRRRQAUUUUAFFFFABRRRQAUUUUAFFFFABRRRQAUUUUAFFFFABRRRQBzng7/kUdK/684P/AEAV0dc54O/5FHSv+vOD/wBAFdHTe4H/0v71fC/Gnzxnqt5d5/4FM7D9CK6OuUeVfD+sSTXB22eoMp3do58BefQOAMdtw9SK6umwCiiikAUUUUAFFFFABRRRQAUUUUAFFFFABRRRQAUUUUAFFFFABRRRQAUUUUAFFFFABRRRQAUUUUAFFFFABRRRQAUUUUAFFFFABRRRQAUUUUAFFFFABRRRQAUUUUAFFFFABRRRQAUUUUAFFFFABRRRQAUUUUAFFFFABRRRQAUUUUAFFFFABRRRQAUUUUAFFFFABRRRQAUUUUAFFFFABRRRQAUUUUAFFFFABRRRQAUUUUAFFFFABRRRQAUUUUAFFFFABRRRQAUUUUAFFFFABRRRQAUUUUAFFFFABRRRQAUUUUAFFFFABRRRQAUUUUAFFFFABRRRQAUUUUAFFFFABRRRQAUUUUAFFFFABTJJEijaWQ4VQST7Cn1y2vXH9pMfC9k3724X9+w/5ZQn7xJ7FhlV7556A00BZ8JRvF4V0yKQYZbSEEe4QV0FNRFjUIgwoGAB2FOpMD//0/79JoYbiJoLhQ6OMMrDIIPYiudXQr+x+XRb54Y+0Uy+ci/TJDge27A7YrpqKdwOc+zeLv8An+s//AV//j9H2bxd/wA/1n/4Cv8A/H66Oii4HOfZvF3/AD/Wf/gK/wD8fo+zeLv+f6z/APAV/wD4/XR0UXA5z7N4u/5/rP8A8BX/APj9H2bxd/z/AFn/AOAr/wDx+ujoouBzn2bxd/z/AFn/AOAr/wDx+j7N4u/5/rP/AMBX/wDj9dHRRcDnPs3i7/n+s/8AwFf/AOP0fZvF3/P9Z/8AgK//AMfro6KLgc59m8Xf8/1n/wCAr/8Ax+j7N4u/5/rP/wABX/8Aj9dHRRcDnPs3i7/n+s//AAFf/wCP0fZvF3/P9Z/+Ar//AB+ujoouBzn2bxd/z/Wf/gK//wAfo+zeLv8An+s//AV//j9dHRRcDnPs3i7/AJ/rP/wFf/4/R9m8Xf8AP9Z/+Ar/APx+ujoouBzn2bxd/wA/1n/4Cv8A/H6Ps3i7/n+s/wDwFf8A+P10dFFwOc+zeLv+f6z/APAV/wD4/R9m8Xf8/wBZ/wDgK/8A8fro6KLgc59m8Xf8/wBZ/wDgK/8A8fo+zeLv+f6z/wDAV/8A4/XR0UXA5z7N4u/5/rP/AMBX/wDj9H2bxd/z/Wf/AICv/wDH66Oii4HOfZvF3/P9Z/8AgK//AMfo+zeLv+f6z/8AAV//AI/XR0UXA5z7N4u/5/rP/wABX/8Aj9H2bxd/z/Wf/gK//wAfro6KLgc59m8Xf8/1n/4Cv/8AH6Ps3i7/AJ/rP/wFf/4/XR0UXA5z7N4u/wCf6z/8BX/+P0fZvF3/AD/Wf/gK/wD8fro6KLgc59m8Xf8AP9Z/+Ar/APx+j7N4u/5/rP8A8BX/APj9dHRRcDnPs3i7/n+s/wDwFf8A+P0fZvF3/P8AWf8A4Cv/APH66Oii4HOfZvF3/P8AWf8A4Cv/APH6Ps3i7/n+s/8AwFf/AOP10dFFwOc+zeLv+f6z/wDAV/8A4/R9m8Xf8/1n/wCAr/8Ax+ujoouBzn2bxd/z/Wf/AICv/wDH6Ps3i7/n+s//AAFf/wCP10dFFwOc+zeLv+f6z/8AAV//AI/R9m8Xf8/1n/4Cv/8AH66Oii4HOfZvF3/P9Z/+Ar//AB+j7N4u/wCf6z/8BX/+P10dFFwOc+zeLv8An+s//AV//j9H2bxd/wA/1n/4Cv8A/H66Oii4HOfZvF3/AD/Wf/gK/wD8fo+zeLv+f6z/APAV/wD4/XR0UXA5z7N4u/5/rP8A8BX/APj9H2bxd/z/AFn/AOAr/wDx+ujoouBzn2bxd/z/AFn/AOAr/wDx+j7N4u/5/rP/AMBX/wDj9dHRRcDnPs3i7/n+s/8AwFf/AOP0fZvF3/P9Z/8AgK//AMfro6KLgc59m8Xf8/1n/wCAr/8Ax+j7N4u/5/rP/wABX/8Aj9dHRRcDnPs3i7/n+s//AAFf/wCP0fZvF3/P9Z/+Ar//AB+ujoouBzn2bxd/z/Wf/gK//wAfo+zeLv8An+s//AV//j9dHRRcDnPs3i7/AJ/rP/wFf/4/R9m8Xf8AP9Z/+Ar/APx+ujoouBzn2bxd/wA/1n/4Cv8A/H6Ps3i7/n+s/wDwFf8A+P10dFFwOc+zeLv+f6z/APAV/wD4/R9m8Xf8/wBZ/wDgK/8A8fro6KLgc59m8Xf8/wBZ/wDgK/8A8fo+zeLv+f6z/wDAV/8A4/XR0UXA5z7N4u/5/rP/AMBX/wDj9H2bxd/z/Wf/AICv/wDH66Oii4HOfZvF3/P9Z/8AgK//AMfo+zeLv+f6z/8AAV//AI/XR0UXA5z7N4u/5/rP/wABX/8Aj9H2bxd/z/Wf/gK//wAfro6KLgc59m8Xf8/1n/4Cv/8AH6Ps3i7/AJ/rP/wFf/4/XR0UXA5z7N4u/wCf6z/8BX/+P0fZvF3/AD/Wf/gK/wD8fro6KLgc59m8Xf8AP9Z/+Ar/APx+j7N4u/5/rP8A8BX/APj9dHRRcDnPs3i7/n+s/wDwFf8A+P0fZvF3/P8AWf8A4Cv/APH66Oii4HOfZvF3/P8AWf8A4Cv/APH6Ps3i7/n+s/8AwFf/AOP10dFFwOc+zeLv+f6z/wDAV/8A4/R9m8Xf8/1n/wCAr/8Ax+ujoouBzn2bxd/z/Wf/AICv/wDH6Ps3i7/n+s//AAFf/wCP10dFFwOc+zeLv+f6z/8AAV//AI/R9m8Xf8/1n/4Cv/8AH66Oii4HOfZvF3/P9Z/+Ar//AB+j7N4u/wCf6z/8BX/+P10dFFwOc+zeLv8An+s//AV//j9H2bxd/wA/1n/4Cv8A/H66Oii4HOfZvF3/AD/Wf/gK/wD8fo+zeLv+f6z/APAV/wD4/XR0UXA5z7N4u/5/rP8A8BX/APj9H2bxd/z/AFn/AOAr/wDx+ujoouBzn2bxd/z/AFn/AOAr/wDx+j7N4u/5/rP/AMBX/wDj9dHRRcDnPs3i7/n+s/8AwFf/AOP0fZvF3/P9Z/8AgK//AMfro6KLgc59m8Xf8/1n/wCAr/8Ax+j7N4u/5/rP/wABX/8Aj9dHRRcDnPs3i7/n+s//AAFf/wCP0fZvF3/P9Z/+Ar//AB+ujoouBzn2bxd/z/Wf/gK//wAfo+zeLv8An+s//AV//j9dHRRcDnPs3i7/AJ/rP/wFf/4/R9m8Xf8AP9Z/+Ar/APx+ujoouBzn2bxd/wA/1n/4Cv8A/H6Ps3i7/n+s/wDwFf8A+P10dFFwOc+zeLv+f6z/APAV/wD4/R9m8Xf8/wBZ/wDgK/8A8fro6KLgc59m8Xf8/wBZ/wDgK/8A8fo+zeLv+f6z/wDAV/8A4/XR0UXA5z7N4u/5/rP/AMBX/wDj9H2bxd/z/Wf/AICv/wDH66Oii4HOfZvF3/P9Z/8AgK//AMfo+zeLv+f6z/8AAV//AI/XR0UXA5z7N4u/5/rP/wABX/8Aj9H2bxd/z/Wf/gK//wAfro6KLgc59m8Xf8/1n/4Cv/8AH6Ps3i7/AJ/rP/wFf/4/XR0UXA5z7N4u/wCf6z/8BX/+P0fZvF3/AD/Wf/gK/wD8fro6KLgc59m8Xf8AP9Z/+Ar/APx+j7N4u/5/rP8A8BX/APj9dHRRcDmzpniG5+S91JUQ9fs0PlsR9XaTH4YNa2n6bZaXB5Fkm0E5YklmZvVmOST7k1eoouAUUUUgP//Z)\n"
      ],
      "metadata": {
        "id": "EQ-MXk3jpZuZ"
      }
    },
    {
      "cell_type": "markdown",
      "source": [
        "References:\n",
        "https://towardsdatascience.com/7-ways-to-handle-missing-values-in-machine-learning-1a6326adf79e\n",
        "\n",
        "https://towardsdatascience.com/feature-selection-with-pandas-e3690ad8504b"
      ],
      "metadata": {
        "id": "W6GKTsUY-_wv"
      }
    },
    {
      "cell_type": "code",
      "source": [
        "#Data Cleaning and Exploratory Data Analysis\n",
        "train = pd.read_csv('train.csv')\n",
        "test = pd.read_csv('test.csv')\n",
        "train['logSales'] = np.log(train['SalePrice'])\n",
        "\n",
        "features = train.drop(['SalePrice', 'logSales'], axis = 1)\n",
        "labels = train['logSales']\n",
        "features['train_code'] = 1\n",
        "test['train_code'] = 0\n",
        "\n",
        "dfs = [features, test]\n",
        "opSet = pd.concat(dfs)\n",
        "print(opSet.head())\n",
        "\n",
        "''' print(opSet.info()) '''\n",
        "\n",
        "#define methods for visualizing and handling NA values and categorical predictors\n",
        "def counter(col_name):\n",
        "  return (train[col_name].isna().sum())\n",
        "for i in train.columns:\n",
        "    na_counter = counter(i)\n",
        "    if na_counter > 0:\n",
        "      print(f\"the column {i} has {na_counter} NA values\")\n",
        "\n",
        "def clean_data(df):\n",
        "  replace_na_columns = [\"PoolQC\", \"Fence\", \"MiscFeature\", 'LotFrontage', 'MasVnrArea']\n",
        "  for k in replace_na_columns:\n",
        "    df[k] = df[k].fillna(0)\n",
        "  meangrgYr = np.mean(df[\"GarageYrBlt\"])\n",
        "  df[\"GarageYrBlt\"] = df[\"GarageYrBlt\"].fillna(meangrgYr)\n",
        "  df = pd.get_dummies(df, dummy_na = True)\n",
        "  return(df)\n",
        "\n",
        "cleaned = clean_data(opSet)\n",
        "print(cleaned.info())\n",
        "\n"
      ],
      "metadata": {
        "colab": {
          "base_uri": "https://localhost:8080/",
          "height": 747
        },
        "id": "fQRMm4UD_2kE",
        "outputId": "674298b8-f7f8-4922-9daa-5de0101882e9"
      },
      "execution_count": null,
      "outputs": [
        {
          "output_type": "stream",
          "name": "stdout",
          "text": [
            "   Id  MSSubClass MSZoning  LotFrontage  LotArea Street Alley LotShape  \\\n",
            "0   1          60       RL         65.0     8450   Pave   NaN      Reg   \n",
            "1   2          20       RL         80.0     9600   Pave   NaN      Reg   \n",
            "2   3          60       RL         68.0    11250   Pave   NaN      IR1   \n",
            "3   4          70       RL         60.0     9550   Pave   NaN      IR1   \n",
            "4   5          60       RL         84.0    14260   Pave   NaN      IR1   \n",
            "\n",
            "  LandContour Utilities  ... PoolArea PoolQC Fence MiscFeature MiscVal MoSold  \\\n",
            "0         Lvl    AllPub  ...        0    NaN   NaN         NaN       0      2   \n",
            "1         Lvl    AllPub  ...        0    NaN   NaN         NaN       0      5   \n",
            "2         Lvl    AllPub  ...        0    NaN   NaN         NaN       0      9   \n",
            "3         Lvl    AllPub  ...        0    NaN   NaN         NaN       0      2   \n",
            "4         Lvl    AllPub  ...        0    NaN   NaN         NaN       0     12   \n",
            "\n",
            "  YrSold  SaleType  SaleCondition  train_code  \n",
            "0   2008        WD         Normal           1  \n",
            "1   2007        WD         Normal           1  \n",
            "2   2008        WD         Normal           1  \n",
            "3   2006        WD        Abnorml           1  \n",
            "4   2008        WD         Normal           1  \n",
            "\n",
            "[5 rows x 81 columns]\n",
            "the column LotFrontage has 259 NA values\n",
            "the column Alley has 1369 NA values\n",
            "the column MasVnrType has 8 NA values\n",
            "the column MasVnrArea has 8 NA values\n",
            "the column BsmtQual has 37 NA values\n",
            "the column BsmtCond has 37 NA values\n",
            "the column BsmtExposure has 38 NA values\n",
            "the column BsmtFinType1 has 37 NA values\n",
            "the column BsmtFinType2 has 38 NA values\n",
            "the column Electrical has 1 NA values\n",
            "the column FireplaceQu has 690 NA values\n",
            "the column GarageType has 81 NA values\n",
            "the column GarageYrBlt has 81 NA values\n",
            "the column GarageFinish has 81 NA values\n",
            "the column GarageQual has 81 NA values\n",
            "the column GarageCond has 81 NA values\n",
            "the column PoolQC has 1453 NA values\n",
            "the column Fence has 1179 NA values\n",
            "the column MiscFeature has 1406 NA values\n"
          ]
        },
        {
          "output_type": "execute_result",
          "data": {
            "text/plain": [
              "' print(cleaned.info()) '"
            ],
            "application/vnd.google.colaboratory.intrinsic+json": {
              "type": "string"
            }
          },
          "metadata": {},
          "execution_count": 39
        }
      ]
    },
    {
      "cell_type": "code",
      "source": [
        "#Separate training and final test values. split training and validation data\n",
        "tester = cleaned.query(\"train_code == 0\")\n",
        "trainer = cleaned.query('train_code == 1')\n",
        "print(trainer.head())\n",
        "trainer = trainer.drop([\"Id\"], axis =1)\n",
        "x_train, x_test, y_train, y_test = train_test_split(trainer, labels, test_size = 0.1, random_state = 29)\n",
        "\n",
        "\n",
        "\n",
        "\n"
      ],
      "metadata": {
        "colab": {
          "base_uri": "https://localhost:8080/"
        },
        "id": "HqINcATVcOcJ",
        "outputId": "b1ec5d16-bb54-4ad4-dbf1-487ba7d47025"
      },
      "execution_count": null,
      "outputs": [
        {
          "output_type": "stream",
          "name": "stdout",
          "text": [
            "   Id  MSSubClass  LotFrontage  LotArea  OverallQual  OverallCond  YearBuilt  \\\n",
            "0   1          60         65.0     8450            7            5       2003   \n",
            "1   2          20         80.0     9600            6            8       1976   \n",
            "2   3          60         68.0    11250            7            5       2001   \n",
            "3   4          70         60.0     9550            7            5       1915   \n",
            "4   5          60         84.0    14260            8            5       2000   \n",
            "\n",
            "   YearRemodAdd  MasVnrArea  BsmtFinSF1  ...  SaleType_Oth  SaleType_WD  \\\n",
            "0          2003       196.0       706.0  ...             0            1   \n",
            "1          1976         0.0       978.0  ...             0            1   \n",
            "2          2002       162.0       486.0  ...             0            1   \n",
            "3          1970         0.0       216.0  ...             0            1   \n",
            "4          2000       350.0       655.0  ...             0            1   \n",
            "\n",
            "   SaleType_nan  SaleCondition_Abnorml  SaleCondition_AdjLand  \\\n",
            "0             0                      0                      0   \n",
            "1             0                      0                      0   \n",
            "2             0                      0                      0   \n",
            "3             0                      1                      0   \n",
            "4             0                      0                      0   \n",
            "\n",
            "   SaleCondition_Alloca  SaleCondition_Family  SaleCondition_Normal  \\\n",
            "0                     0                     0                     1   \n",
            "1                     0                     0                     1   \n",
            "2                     0                     0                     1   \n",
            "3                     0                     0                     0   \n",
            "4                     0                     0                     1   \n",
            "\n",
            "   SaleCondition_Partial  SaleCondition_nan  \n",
            "0                      0                  0  \n",
            "1                      0                  0  \n",
            "2                      0                  0  \n",
            "3                      0                  0  \n",
            "4                      0                  0  \n",
            "\n",
            "[5 rows x 336 columns]\n"
          ]
        }
      ]
    },
    {
      "cell_type": "markdown",
      "source": [
        "# Detailed Report\n",
        "\n",
        "### Data Manipulation and cleaning \n",
        "\n",
        "### Exploratory analysis and plotting\n",
        "\n",
        "### Feature selection and modelling\n"
      ],
      "metadata": {
        "id": "GWE_fP5FyUyz"
      }
    },
    {
      "cell_type": "code",
      "source": [
        "#prepare and train model\n",
        "estimator = LinearRegression()\n",
        "feat_select = RFECV(estimator, step = 1)\n",
        "feat_select = feat_select.fit(x_train, y_train)\n",
        "\n"
      ],
      "metadata": {
        "id": "6H2G4aNOKAUb"
      },
      "execution_count": null,
      "outputs": []
    },
    {
      "cell_type": "markdown",
      "source": [
        "# Ethics Discussion\n"
      ],
      "metadata": {
        "id": "E99FIUzGx2Mg"
      }
    },
    {
      "cell_type": "code",
      "source": [
        "for col in tester.columns:\n",
        "  tester[col] = tester[col].fillna(0)\n",
        "\n",
        "def evaluate_model(name, model, features, labels):\n",
        "    start = time()\n",
        "    pred = model.predict(features)\n",
        "    end = time()\n",
        "    model_r2 = r2_score(labels, pred)\n",
        "    mse = mean_squared_error(labels, pred)\n",
        "    mae = mean_absolute_error(labels, pred)\n",
        "    print('{} -- model R^2: {}, MSE: {}, MAE: {}, latency: {}ms'. format(name, model_r2, mse, mae, round((end-start)*1000, 1)))\n",
        "\n",
        "def counter(col_name):\n",
        "  return (tester[col_name].isna().sum())\n",
        "for i in tester.columns:\n",
        "    na_counter = counter(i)\n",
        "    if na_counter > 0:\n",
        "      print(f\"the column {i} has {na_counter} NA values\")\n",
        "evaluate_model('LR1', feat_select, x_test, y_test)\n",
        "\n",
        "tester2 = tester.drop(['Id'], axis = 1)\n",
        "tester2['preds'] = np.exp(feat_select.predict(tester2))\n",
        "submissiondf = pd.DataFrame({'Id': tester['Id'], 'SalePrice': tester2['preds']})\n"
      ],
      "metadata": {
        "colab": {
          "base_uri": "https://localhost:8080/"
        },
        "id": "TsvuU6OFNKHW",
        "outputId": "9e1aec90-7f3f-4e86-c257-64dc21c0d99f"
      },
      "execution_count": null,
      "outputs": [
        {
          "output_type": "stream",
          "name": "stdout",
          "text": [
            "LR1 -- model R^2: 0.5831432593237358, MSE: 0.06638239994856737, MAE: 0.10567154855207693, latency: 5.3ms\n"
          ]
        },
        {
          "output_type": "stream",
          "name": "stderr",
          "text": [
            "/usr/local/lib/python3.7/dist-packages/ipykernel_launcher.py:2: SettingWithCopyWarning: \n",
            "A value is trying to be set on a copy of a slice from a DataFrame.\n",
            "Try using .loc[row_indexer,col_indexer] = value instead\n",
            "\n",
            "See the caveats in the documentation: https://pandas.pydata.org/pandas-docs/stable/user_guide/indexing.html#returning-a-view-versus-a-copy\n",
            "  \n"
          ]
        }
      ]
    },
    {
      "cell_type": "code",
      "source": [
        "print(submissiondf.isna().sum())\n",
        "submissiondf.to_csv('submissiondf.csv', index = False)"
      ],
      "metadata": {
        "colab": {
          "base_uri": "https://localhost:8080/"
        },
        "id": "7A-naH5-Sp6M",
        "outputId": "2be840df-3d81-4d62-becf-d2b531b162fa"
      },
      "execution_count": null,
      "outputs": [
        {
          "output_type": "stream",
          "name": "stdout",
          "text": [
            "Id           0\n",
            "SalePrice    0\n",
            "dtype: int64\n"
          ]
        }
      ]
    },
    {
      "cell_type": "markdown",
      "source": [
        "# Interpretations\n"
      ],
      "metadata": {
        "id": "40RJkskuyDdg"
      }
    }
  ]
}